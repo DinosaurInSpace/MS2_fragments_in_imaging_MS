{
 "cells": [
  {
   "cell_type": "code",
   "execution_count": 1,
   "metadata": {},
   "outputs": [],
   "source": [
    "# Will reload modeules after this when they change!\n",
    "%load_ext autoreload\n",
    "%autoreload 2"
   ]
  },
  {
   "cell_type": "code",
   "execution_count": 2,
   "metadata": {},
   "outputs": [],
   "source": [
    "import pandas as pd\n",
    "import numpy as np"
   ]
  },
  {
   "cell_type": "markdown",
   "metadata": {},
   "source": [
    "If you look at how we're going to use the fragment match scores, we're in this awkward position where absence of evidence isn't evidence of absence. Even if none of the fragments match, we can't confidently assert that a molecule is unlikely. We can only start to say a molecule is unlikely if we look at all the other options that could explain a peak, and find one or several that are really solid matches.\n",
    "\n",
    "I envision us ending up with rules like \"if there is any molecule A in this annotation with a score 0.X higher than molecule B, mark molecule A as more likely and B as less likely\". We would probably want to take p-values into account when defining the 0.X threshold so that we don't overstate certainty when there's only 1 potentially observable fragment per molecule. To make these sorts of coarse judgments, we don't need a precise score that can be compared across a wide variety of annotations, we just need an approximate score that can be compared within a set of relatively similar molecules within the same annotation or isomeric/isobaric set.\n",
    "\n",
    "Regarding the actual colocalization metric, I don't think we need to go any more advanced than Median-Thresholded Cosine. The \"Parent colocalizes with a subset of Fragment\" and \"Fragment colocalizes with a subset of Parent\" both boost confidence a bit, but not as much as full colocalization. Median-Thresholded Cosine (and most other colocalization algorithms) preserve the expected ranking between these classes, so I think it's fine. IMO, if we want to special-case subset-colocalization, we'd need to spend weeks on an experiment to prove we've chosen the right approach. I don't think it would matter much in the big picture, because if we're only comparing within sets of relatively similar molecules, there will be similar numbers of fragments and a lot of the fragments will be common within the set, meaning that any algorithmic biases will be applied fairly evenly across molecules in the same set.\n",
    "\n",
    "The aspect I know the least about is how to combine multiple fragment colocalization scores into a single score for each molecule. The Enrichment Analysis technique used by MetaboAnalyst seems like it solves an analogous problem, but I haven't looked into the math behind it."
   ]
  },
  {
   "cell_type": "markdown",
   "metadata": {},
   "source": [
    "If you need specific numbers for how common Case II and Case III are, I would suggest thresholding both images to make them binary, then calculating how many pixels are set in the area of intersection vs how many pixels are in each thresholded image. Something like this:"
   ]
  },
  {
   "cell_type": "code",
   "execution_count": null,
   "metadata": {},
   "outputs": [],
   "source": [
    "parent_mask = parent_img > np.max(parent_img) / 10\n",
    "fragment_mask = fragment_img > np.max(fragment_img) / 10\n",
    "intersection_mask = parent_mask | fragment_mask\n",
    "parent_size = np.count_nonzero(parent_mask)\n",
    "fragment_size = np.count_nonzero(fragment_mask)\n",
    "intersection_size = np.count_nonzero(intersection_mask)\n",
    "if intersection_size > parent_size / 2 and intersection_size > fragment_size / 2:\n",
    "    # If more than 50% of both parent and fragment intersect\n",
    "    return \"Case I\"\n",
    "elif intersection_size > parent_size / 2 and parent_size < fragment_size:\n",
    "    # If more than 50% of parent intersects with fragment, and fragment is bigger\n",
    "    return \"Case II\"\n",
    "elif intersection_size > fragment_size / 2 and parent_size > fragment_size:\n",
    "    # If more than 50% of fragment intersects with parent, and parent is bigger\n",
    "    return \"Case III\"\n",
    "elif intersection_size < parent_size / 2 and intersection_size < fragment_size / 2:\n",
    "    # If less than 50% of both fragment & parent intersect\n",
    "    return \"Case IV\"\n",
    "else:\n",
    "    # The above conditions don't cover all possible combinations...\n",
    "    return \"Some other case\""
   ]
  },
  {
   "cell_type": "code",
   "execution_count": null,
   "metadata": {},
   "outputs": [],
   "source": []
  },
  {
   "cell_type": "code",
   "execution_count": null,
   "metadata": {},
   "outputs": [],
   "source": [
    "Median-thresholded cosine"
   ]
  },
  {
   "cell_type": "markdown",
   "metadata": {},
   "source": [
    "https://github.com/metaspace2020/coloc/blob/master/measures/NoLearning/ion_intensity_coloc_measures.ipynb"
   ]
  },
  {
   "cell_type": "markdown",
   "metadata": {},
   "source": [
    "https://github.com/metaspace2020/metaspace/blob/2b1066efa0cc1bc68459cca1a41b9ae7d598cbf3/metaspace/engine/sm/engine/colocalization.py#L211"
   ]
  },
  {
   "cell_type": "code",
   "execution_count": 4,
   "metadata": {},
   "outputs": [],
   "source": [
    "def metaspace_hotspot_removal(img):\n",
    "    awkwardness = np.max(img) / 255\n",
    "    hot_thresold = np.percentile(img[img >= awkwardness], 99) or 1\n",
    "    return np.clip(img, 0, hot_thresold) / hot_thresold"
   ]
  },
  {
   "cell_type": "code",
   "execution_count": 5,
   "metadata": {},
   "outputs": [],
   "source": [
    "def compute_median_threshold_cosine(img_a, img_b):\n",
    "    img_a = metaspace_hotspot_removal(imag_a)\n",
    "    img_b = metaspace_hotspot_removal(imag_b)\n",
    "    \n",
    "    # median filter window size\n",
    "    med_win = 3\n",
    "    if med_win > 0: \n",
    "        img = ndimage.median_filter(img, med_win)\n",
    "    \n",
    "    "
   ]
  },
  {
   "cell_type": "markdown",
   "metadata": {},
   "source": [
    "The h and w parameters are included because a and b were both passed in as 1D arrays in that codebase, but the algorithm requires 2D images. If your images are already 2D you could remove the two `reshape`s and not need to pass the h and w through"
   ]
  },
  {
   "cell_type": "code",
   "execution_count": 6,
   "metadata": {},
   "outputs": [],
   "source": [
    "def get_median_filtered_coloc(a, b, h, w):\n",
    "    def preprocess(img):\n",
    "        img = img.copy().reshape((h, w))\n",
    "        img[img < np.quantile(img, 0.5)] = 0\n",
    "        return median_filter(img, (3, 3)).reshape([1, h*w])\n",
    "    return cosine_similarity(preprocess(a), preprocess(b))[0,0]"
   ]
  },
  {
   "cell_type": "code",
   "execution_count": 18,
   "metadata": {},
   "outputs": [],
   "source": [
    "from scipy.ndimage import median_filter\n",
    "from sklearn.metrics.pairwise import cosine_similarity\n",
    "import imageio\n",
    "\n",
    "def get_median_filtered_coloc(a, b):\n",
    "    # Modified for input as 2D image\n",
    "    def preprocess(img):\n",
    "        img = img.copy()\n",
    "        img[img < np.quantile(img, 0.5)] = 0\n",
    "        return median_filter(img, (3, 3))\n",
    "    return cosine_similarity(preprocess(a), preprocess(b))[0,0]"
   ]
  },
  {
   "cell_type": "code",
   "execution_count": 27,
   "metadata": {},
   "outputs": [],
   "source": [
    "a = '/Users/dis/PycharmProjects/word2vec/METASPACE_img_df_2020_May_18_spotted_9x/2020-05-14_16h32m01s/by_id/HMDB0008578/C30H59NO6P_F.png'"
   ]
  },
  {
   "cell_type": "code",
   "execution_count": 36,
   "metadata": {},
   "outputs": [
    {
     "data": {
      "image/png": "[encoded data removed]",
      "text/plain": [
       "<Figure size 432x288 with 1 Axes>"
      ]
     },
     "metadata": {
      "needs_background": "light"
     },
     "output_type": "display_data"
    }
   ],
   "source": [
    "import matplotlib.pyplot as plt\n",
    "import matplotlib.cm as cm\n",
    "import numpy as np\n",
    "import scipy.cluster.vq as scv\n",
    "\n",
    "\n",
    "def colormap2arr(arr,cmap):    \n",
    "    # http://stackoverflow.com/questions/3720840/how-to-reverse-color-map-image-to-scalar-values/3722674#3722674\n",
    "    gradient=cmap(np.linspace(0.0,1.0,100))\n",
    "\n",
    "    # Reshape arr to something like (240*240, 4), all the 4-tuples in a long list...\n",
    "    arr2=arr.reshape((arr.shape[0]*arr.shape[1],arr.shape[2]))\n",
    "\n",
    "    # Use vector quantization to shift the values in arr2 to the nearest point in\n",
    "    # the code book (gradient).\n",
    "    code,dist=scv.vq(arr2,gradient)\n",
    "\n",
    "    # code is an array of length arr2 (240*240), holding the code book index for\n",
    "    # each observation. (arr2 are the \"observations\".)\n",
    "    # Scale the values so they are from 0 to 1.\n",
    "    values=code.astype('float')/gradient.shape[0]\n",
    "\n",
    "    # Reshape values back to (240,240)\n",
    "    values=values.reshape(arr.shape[0],arr.shape[1])\n",
    "    values=values[::-1]\n",
    "    return values\n",
    "\n",
    "arr=plt.imread(a)\n",
    "values=colormap2arr(arr,cm.viridis)    \n",
    "\n",
    "# Proof that it works:\n",
    "plt.imshow(values,interpolation='bilinear', cmap=cm.viridis,\n",
    "           origin='lower')\n",
    "plt.show()"
   ]
  },
  {
   "cell_type": "code",
   "execution_count": 45,
   "metadata": {},
   "outputs": [
    {
     "data": {
      "text/plain": [
       "0.0"
      ]
     },
     "execution_count": 45,
     "metadata": {},
     "output_type": "execute_result"
    }
   ],
   "source": [
    "values=colormap2arr(plt.imread(a),cm.viridis)\n",
    "\n",
    "a = '/Users/dis/PycharmProjects/word2vec/METASPACE_img_df_2020_May_18_spotted_9x/2020-05-14_16h32m01s/by_id/HMDB0008578/C30H59NO6P_F.png'\n",
    "b = '/Users/dis/PycharmProjects/word2vec/METASPACE_img_df_2020_May_18_spotted_9x/2020-05-14_16h32m01s/by_id/HMDB0008578/C47H87O4_F.png'\n",
    "get_median_filtered_coloc(colormap2arr(plt.imread(a),cm.viridis),\n",
    "                          colormap2arr(plt.imread(b),cm.viridis))"
   ]
  },
  {
   "cell_type": "code",
   "execution_count": null,
   "metadata": {},
   "outputs": [],
   "source": [
    "# Task: Assemble list of questions/queries/approaches"
   ]
  },
  {
   "cell_type": "code",
   "execution_count": 48,
   "metadata": {},
   "outputs": [
    {
     "data": {
      "image/png": "[encoded data removed]",
      "text/plain": [
       "<PIL.PngImagePlugin.PngImageFile image mode=RGBA size=100x220 at 0x1A2698EA58>"
      ]
     },
     "execution_count": 48,
     "metadata": {},
     "output_type": "execute_result"
    }
   ],
   "source": [
    "import pathlib\n",
    "from PIL import Image\n",
    "dir_path = pathlib.Path(\"/home/intsco/Downloads\")\n",
    "image_path = dir_path / \"image.png\"\n",
    "image = Image.open(a)\n",
    "image"
   ]
  },
  {
   "cell_type": "code",
   "execution_count": 49,
   "metadata": {},
   "outputs": [
    {
     "data": {
      "text/plain": [
       "((100, 220), 'RGBA')"
      ]
     },
     "execution_count": 49,
     "metadata": {},
     "output_type": "execute_result"
    }
   ],
   "source": [
    "image.size, image.mode"
   ]
  },
  {
   "cell_type": "code",
   "execution_count": 55,
   "metadata": {},
   "outputs": [],
   "source": [
    "c = pd.read_pickle('/Users/dis/PycharmProjects/word2vec/METASPACE_img_df_2020_May_19_spotted_9x_arr/2020-05-14_16h32m01s/by_formula/C5H14NO.pickle').to_numpy()\n",
    "d = pd.read_pickle('/Users/dis/PycharmProjects/word2vec/METASPACE_img_df_2020_May_19_spotted_9x_arr/2020-05-14_16h32m01s/by_formula/C52H101NO8P.pickle').to_numpy()"
   ]
  },
  {
   "cell_type": "code",
   "execution_count": 56,
   "metadata": {},
   "outputs": [
    {
     "data": {
      "text/plain": [
       "array([[0., 0., 0., ..., 0., 0., 0.],\n",
       "       [0., 0., 0., ..., 0., 0., 0.],\n",
       "       [0., 0., 0., ..., 0., 0., 0.],\n",
       "       ...,\n",
       "       [0., 0., 0., ..., 0., 0., 0.],\n",
       "       [0., 0., 0., ..., 0., 0., 0.],\n",
       "       [0., 0., 0., ..., 0., 0., 0.]], dtype=float32)"
      ]
     },
     "execution_count": 56,
     "metadata": {},
     "output_type": "execute_result"
    }
   ],
   "source": [
    "c"
   ]
  },
  {
   "cell_type": "code",
   "execution_count": 62,
   "metadata": {},
   "outputs": [
    {
     "data": {
      "text/plain": [
       "(220, 100)"
      ]
     },
     "execution_count": 62,
     "metadata": {},
     "output_type": "execute_result"
    }
   ],
   "source": [
    "c.shape"
   ]
  },
  {
   "cell_type": "code",
   "execution_count": 57,
   "metadata": {},
   "outputs": [
    {
     "data": {
      "text/plain": [
       "array([[0., 0., 0., ..., 0., 0., 0.],\n",
       "       [0., 0., 0., ..., 0., 0., 0.],\n",
       "       [0., 0., 0., ..., 0., 0., 0.],\n",
       "       ...,\n",
       "       [0., 0., 0., ..., 0., 0., 0.],\n",
       "       [0., 0., 0., ..., 0., 0., 0.],\n",
       "       [0., 0., 0., ..., 0., 0., 0.]], dtype=float32)"
      ]
     },
     "execution_count": 57,
     "metadata": {},
     "output_type": "execute_result"
    }
   ],
   "source": [
    "d"
   ]
  },
  {
   "cell_type": "code",
   "execution_count": 63,
   "metadata": {},
   "outputs": [
    {
     "data": {
      "text/plain": [
       "(220, 100)"
      ]
     },
     "execution_count": 63,
     "metadata": {},
     "output_type": "execute_result"
    }
   ],
   "source": [
    "d.shape"
   ]
  },
  {
   "cell_type": "code",
   "execution_count": 58,
   "metadata": {},
   "outputs": [
    {
     "data": {
      "text/plain": [
       "0.0"
      ]
     },
     "execution_count": 58,
     "metadata": {},
     "output_type": "execute_result"
    }
   ],
   "source": [
    "get_median_filtered_coloc(c,d)"
   ]
  },
  {
   "cell_type": "code",
   "execution_count": 59,
   "metadata": {},
   "outputs": [
    {
     "data": {
      "text/plain": [
       "0.0"
      ]
     },
     "execution_count": 59,
     "metadata": {},
     "output_type": "execute_result"
    }
   ],
   "source": [
    "get_median_filtered_coloc(c,c)"
   ]
  },
  {
   "cell_type": "code",
   "execution_count": 60,
   "metadata": {},
   "outputs": [
    {
     "data": {
      "text/plain": [
       "<matplotlib.image.AxesImage at 0x1a26a03898>"
      ]
     },
     "execution_count": 60,
     "metadata": {},
     "output_type": "execute_result"
    },
    {
     "data": {
      "image/png": "[encoded data removed]",
      "text/plain": [
       "<Figure size 432x288 with 1 Axes>"
      ]
     },
     "metadata": {
      "needs_background": "light"
     },
     "output_type": "display_data"
    }
   ],
   "source": [
    "plt.imshow(c)"
   ]
  },
  {
   "cell_type": "code",
   "execution_count": 61,
   "metadata": {},
   "outputs": [
    {
     "data": {
      "text/plain": [
       "<matplotlib.image.AxesImage at 0x1a267b16d8>"
      ]
     },
     "execution_count": 61,
     "metadata": {},
     "output_type": "execute_result"
    },
    {
     "data": {
      "image/png": "[encoded data removed]",
      "text/plain": [
       "<Figure size 432x288 with 1 Axes>"
      ]
     },
     "metadata": {
      "needs_background": "light"
     },
     "output_type": "display_data"
    }
   ],
   "source": [
    "plt.imshow(d)"
   ]
  },
  {
   "cell_type": "code",
   "execution_count": null,
   "metadata": {},
   "outputs": [],
   "source": []
  }
 ],
 "metadata": {
  "kernelspec": {
   "display_name": "Python 3",
   "language": "python",
   "name": "python3"
  },
  "language_info": {
   "codemirror_mode": {
    "name": "ipython",
    "version": 3
   },
   "file_extension": ".py",
   "mimetype": "text/x-python",
   "name": "python",
   "nbconvert_exporter": "python",
   "pygments_lexer": "ipython3",
   "version": "3.6.8"
  }
 },
 "nbformat": 4,
 "nbformat_minor": 2
}
