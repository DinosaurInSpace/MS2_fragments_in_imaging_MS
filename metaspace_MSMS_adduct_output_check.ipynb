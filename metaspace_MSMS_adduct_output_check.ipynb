{
 "cells": [
  {
   "cell_type": "code",
   "execution_count": 1,
   "metadata": {},
   "outputs": [],
   "source": [
    "# Will reload modeules after this when they change!\n",
    "%load_ext autoreload\n",
    "%autoreload 2"
   ]
  },
  {
   "cell_type": "code",
   "execution_count": 13,
   "metadata": {},
   "outputs": [],
   "source": [
    "import pandas as pd\n",
    "import numpy as np"
   ]
  },
  {
   "cell_type": "markdown",
   "metadata": {},
   "source": [
    "# Checking output is okay...\n",
    "Check pos ions = {1:190622, 22:1370, 38:6}\n",
    "1. Sample M+H: abs mass errors < 0.000002 Da\n",
    "2. Sample M+Na: abs mass errors < 0.000002 Da for fragments w/Na\n",
    "2.1 All fragments have Na!  Is this me or Sirius?\n",
    "3. Sample M+K: : abs mass errors < 0.000002 Da for fragments w/K\n",
    "3.1 Only HMDB0008889.\n",
    "3.2 All fragments have K!  Is this me or Sirius?\n",
    "\n",
    "Check neg ions = {-1:231557}\n",
    "4. Sample M-H: abs mass errors < 0.000002 Da\n",
    "5. Both filtering on input list works!\n",
    "\n",
    "-->Suggestion for now: Only analyze MH+ and M-H+ for now?"
   ]
  },
  {
   "cell_type": "code",
   "execution_count": 59,
   "metadata": {},
   "outputs": [],
   "source": [
    "from sirius_to_metaspace_db import ionmassneg, ex"
   ]
  },
  {
   "cell_type": "code",
   "execution_count": 77,
   "metadata": {},
   "outputs": [],
   "source": [
    "# Negative mode check M-H\n",
    "df = pd.read_csv('to_metaspace/test_neg_limit_20.csv', sep='\\t').iloc[3:13,:]\n",
    "df['check_mass'] = df.formula.apply(lambda x: ionmassneg(x))\n",
    "df['sir_out'] = [59.013853, 71.013853, 74.024752, 83.013853,\n",
    "                83.050238, 97.077122, 99.045153, 99.092772,\n",
    "                101.060803, 145.098251]\n",
    "df['delta'] = df['check_mass'] - df['sir_out']\n",
    "#df[['id', 'check_mass', 'sir_out', 'delta']]"
   ]
  },
  {
   "cell_type": "code",
   "execution_count": 78,
   "metadata": {},
   "outputs": [],
   "source": [
    "# Positive mode check M+H\n",
    "from sirius_to_metaspace_db import ionmasspos\n",
    "df = pd.read_csv('to_metaspace/test_pos.csv', sep='\\t')\n",
    "df['parent_id'] = df.id.apply(lambda x: x.split('_')[0])\n",
    "df = df[df.parent_id == 'HMDB0001310']\n",
    "df['check_mass'] = df.formula.apply(lambda x: ionmasspos(x))\n",
    "df['sir_out'] = [44.049476, 61.028406, 72.044390, 90.054955]\n",
    "df['delta'] = df['check_mass'] - df['sir_out']\n",
    "#df[['id', 'check_mass', 'sir_out', 'delta']]"
   ]
  },
  {
   "cell_type": "code",
   "execution_count": 92,
   "metadata": {},
   "outputs": [
    {
     "data": {
      "text/html": [
       "<div>\n",
       "<style scoped>\n",
       "    .dataframe tbody tr th:only-of-type {\n",
       "        vertical-align: middle;\n",
       "    }\n",
       "\n",
       "    .dataframe tbody tr th {\n",
       "        vertical-align: top;\n",
       "    }\n",
       "\n",
       "    .dataframe thead th {\n",
       "        text-align: right;\n",
       "    }\n",
       "</style>\n",
       "<table border=\"1\" class=\"dataframe\">\n",
       "  <thead>\n",
       "    <tr style=\"text-align: right;\">\n",
       "      <th></th>\n",
       "      <th>id</th>\n",
       "      <th>check_mass</th>\n",
       "      <th>sir_out</th>\n",
       "      <th>delta</th>\n",
       "    </tr>\n",
       "  </thead>\n",
       "  <tbody>\n",
       "    <tr>\n",
       "      <td>272</td>\n",
       "      <td>HMDB0000251_1f</td>\n",
       "      <td>102.969844</td>\n",
       "      <td>102.969845</td>\n",
       "      <td>-0.000001</td>\n",
       "    </tr>\n",
       "    <tr>\n",
       "      <td>273</td>\n",
       "      <td>HMDB0000251_2f</td>\n",
       "      <td>130.977334</td>\n",
       "      <td>130.977336</td>\n",
       "      <td>-0.000002</td>\n",
       "    </tr>\n",
       "    <tr>\n",
       "      <td>274</td>\n",
       "      <td>HMDB0000251_3p</td>\n",
       "      <td>148.003884</td>\n",
       "      <td>148.003885</td>\n",
       "      <td>-0.000001</td>\n",
       "    </tr>\n",
       "  </tbody>\n",
       "</table>\n",
       "</div>"
      ],
      "text/plain": [
       "                 id  check_mass     sir_out     delta\n",
       "272  HMDB0000251_1f  102.969844  102.969845 -0.000001\n",
       "273  HMDB0000251_2f  130.977334  130.977336 -0.000002\n",
       "274  HMDB0000251_3p  148.003884  148.003885 -0.000001"
      ]
     },
     "execution_count": 92,
     "metadata": {},
     "output_type": "execute_result"
    }
   ],
   "source": [
    "# Positive mode check M+Na\n",
    "df = pd.read_csv('to_metaspace/test_pos.csv', sep='\\t')\n",
    "df['parent_id'] = df.id.apply(lambda x: x.split('_')[0])\n",
    "df = df[df.parent_id == 'HMDB0000251']\n",
    "df['check_mass'] = df.formula.apply(lambda x: ionmasspos(x))\n",
    "df['sir_out'] = [102.969845, 130.977336, 148.003885]\n",
    "df['delta'] = df['check_mass'] - df['sir_out']\n",
    "df[['id', 'check_mass', 'sir_out', 'delta']]"
   ]
  },
  {
   "cell_type": "code",
   "execution_count": 104,
   "metadata": {},
   "outputs": [],
   "source": [
    "# Positive mode check Na more\n",
    "df = pd.read_csv('to_metaspace/test_pos.csv', sep='\\t')\n",
    "df = df[df.formula.str.contains('Na')].iloc[25:,:]\n",
    "df['parent_id'] = df.id.apply(lambda x: x.split('_')[0])\n",
    "Na_adduct_list = list(df['parent_id'].unique())\n",
    "\n",
    "df = pd.read_csv('to_metaspace/test_pos.csv', sep='\\t')\n",
    "df['parent_id'] = df.id.apply(lambda x: x.split('_')[0])\n",
    "df = df[df.parent_id.isin(Na_adduct_list)]\n",
    "#list(df.formula)"
   ]
  },
  {
   "cell_type": "code",
   "execution_count": 109,
   "metadata": {},
   "outputs": [],
   "source": [
    "# Positive mode check K more\n",
    "df = pd.read_csv('to_metaspace/test_pos.csv', sep='\\t')\n",
    "df = df[df.formula.str.contains('K')]\n",
    "df['parent_id'] = df.id.apply(lambda x: x.split('_')[0])\n",
    "K_adduct_list = list(df['parent_id'].unique())\n",
    "\n",
    "df = pd.read_csv('to_metaspace/test_pos.csv', sep='\\t')\n",
    "df['parent_id'] = df.id.apply(lambda x: x.split('_')[0])\n",
    "df = df[df.parent_id.isin(K_adduct_list)]\n",
    "\n",
    "df['check_mass'] = df.formula.apply(lambda x: ionmasspos(x))\n",
    "df['sir_out'] = [523.331305, 561.415393, 585.331699,\n",
    "                657.413023, 667.409949, 702.447063]\n",
    "df['delta'] = df['check_mass'] - df['sir_out']\n",
    "#df[['id', 'check_mass', 'sir_out', 'delta']]"
   ]
  }
 ],
 "metadata": {
  "kernelspec": {
   "display_name": "Python 3",
   "language": "python",
   "name": "python3"
  },
  "language_info": {
   "codemirror_mode": {
    "name": "ipython",
    "version": 3
   },
   "file_extension": ".py",
   "mimetype": "text/x-python",
   "name": "python",
   "nbconvert_exporter": "python",
   "pygments_lexer": "ipython3",
   "version": "3.6.8"
  }
 },
 "nbformat": 4,
 "nbformat_minor": 2
}
