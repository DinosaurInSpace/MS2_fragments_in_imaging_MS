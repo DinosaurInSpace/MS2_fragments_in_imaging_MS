{
 "cells": [
  {
   "cell_type": "code",
   "execution_count": 32,
   "metadata": {},
   "outputs": [
    {
     "name": "stdout",
     "output_type": "stream",
     "text": [
      "The autoreload extension is already loaded. To reload it, use:\n",
      "  %reload_ext autoreload\n"
     ]
    }
   ],
   "source": [
    "# Will reload modeules after this when they change!\n",
    "%load_ext autoreload\n",
    "%autoreload 2"
   ]
  },
  {
   "cell_type": "code",
   "execution_count": 33,
   "metadata": {},
   "outputs": [],
   "source": [
    "import pandas as pd\n",
    "import numpy as np\n",
    "from results_processing_filter_vector import *"
   ]
  },
  {
   "cell_type": "markdown",
   "metadata": {},
   "source": [
    "This notebook analyzes the results from three seperate experiments:\n",
    "1. Authentics standard spotting (VS, n=9):\n",
    "metaspace_MSMS_VS_9_spotted_datasets.ipynb\n",
    "\n",
    "2. Wholebody MSI (various, n=10):\n",
    "metaspace_MSMS_whole_body_matched_II.ipynb\n",
    "\n",
    "3. High-quality datasets in METASPACE (top labs, n=328):\n",
    "metaspace_MSMS_high_quality_datasets.ipynb\n",
    "\n",
    "These experiments were processed through the METASPACE MS/MS workflow.  Merged and annoated dataframes are scored here to answer a series of scientific questions: \n",
    "https://docs.google.com/document/d/1QDb5LIYcyF2fl_EFr8TJowLTrUtZYziBpA34Xtf6DrY/edit?usp=sharing"
   ]
  },
  {
   "cell_type": "code",
   "execution_count": null,
   "metadata": {},
   "outputs": [],
   "source": [
    "# Load datsets\n",
    "scored_df = pd.read_pickle('data_analysis/scored_df.pickle')\n",
    "\n",
    "# Load filters\n",
    "filter_df = pd.read_csv('data_analysis/data_analysis_filters.csv')"
   ]
  },
  {
   "cell_type": "code",
   "execution_count": null,
   "metadata": {
    "scrolled": true
   },
   "outputs": [],
   "source": [
    "# Run filters on data (results are per ds)\n",
    "result = generate_results(filter_df, scored_df)"
   ]
  },
  {
   "cell_type": "code",
   "execution_count": null,
   "metadata": {},
   "outputs": [],
   "source": [
    "# Save your work!\n",
    "out_df = pd.DataFrame(result[0])\n",
    "vect_df = pd.concat(result[1], ignore_index=True)\n",
    "\n",
    "out_df.to_pickle('data_analysis/filtered_and_scored_df.pickle')\n",
    "vect_df.to_pickle('data_analysis/filtered_vectors_df.pickle')"
   ]
  },
  {
   "cell_type": "code",
   "execution_count": 34,
   "metadata": {},
   "outputs": [],
   "source": [
    "# Load for further processing:\n",
    "out_df = pd.read_pickle('data_analysis/filtered_and_scored_df.pickle')\n",
    "vect_df = pd.read_pickle('data_analysis/filtered_vectors_df.pickle')"
   ]
  },
  {
   "cell_type": "code",
   "execution_count": 35,
   "metadata": {},
   "outputs": [
    {
     "data": {
      "text/plain": [
       "(177649322, 13)"
      ]
     },
     "execution_count": 35,
     "metadata": {},
     "output_type": "execute_result"
    }
   ],
   "source": [
    "vect_df.shape"
   ]
  },
  {
   "cell_type": "code",
   "execution_count": 36,
   "metadata": {},
   "outputs": [],
   "source": [
    "df = vect_df.drop_duplicates()"
   ]
  },
  {
   "cell_type": "code",
   "execution_count": 37,
   "metadata": {},
   "outputs": [
    {
     "data": {
      "text/plain": [
       "(2544329, 13)"
      ]
     },
     "execution_count": 37,
     "metadata": {},
     "output_type": "execute_result"
    }
   ],
   "source": [
    "df.shape"
   ]
  },
  {
   "cell_type": "code",
   "execution_count": 13,
   "metadata": {},
   "outputs": [],
   "source": [
    "# Use to filter for experimental subsets...\n",
    "expt_df = df[(df['filter'].isin([1,2,3]))&(df.id_x == 'HMDB0001341')&(df.cos >= 0.50)]"
   ]
  },
  {
   "cell_type": "code",
   "execution_count": 40,
   "metadata": {},
   "outputs": [],
   "source": [
    "# Use to find special potentially neighboring isobars\n",
    "expt_df = df[(df['filter'].isin([1,2,3]))&(df.db_n_isobar_par == 1)&(df.ds_n_isobar_frag == 0)&(df.cos >= 0.50)]"
   ]
  },
  {
   "cell_type": "code",
   "execution_count": 41,
   "metadata": {
    "scrolled": false
   },
   "outputs": [
    {
     "data": {
      "text/html": [
       "<div>\n",
       "<style scoped>\n",
       "    .dataframe tbody tr th:only-of-type {\n",
       "        vertical-align: middle;\n",
       "    }\n",
       "\n",
       "    .dataframe tbody tr th {\n",
       "        vertical-align: top;\n",
       "    }\n",
       "\n",
       "    .dataframe thead th {\n",
       "        text-align: right;\n",
       "    }\n",
       "</style>\n",
       "<table border=\"1\" class=\"dataframe\">\n",
       "  <thead>\n",
       "    <tr style=\"text-align: right;\">\n",
       "      <th></th>\n",
       "      <th>cos</th>\n",
       "      <th>db_n_isobar_par</th>\n",
       "      <th>db_n_isobar_frag</th>\n",
       "      <th>ds_n_isobar_frag</th>\n",
       "      <th>ds_id</th>\n",
       "      <th>id_x</th>\n",
       "      <th>formula</th>\n",
       "      <th>par_frag</th>\n",
       "      <th>polarity</th>\n",
       "      <th>analyzer</th>\n",
       "      <th>group</th>\n",
       "      <th>expt_type</th>\n",
       "      <th>filter</th>\n",
       "    </tr>\n",
       "  </thead>\n",
       "  <tbody>\n",
       "    <tr>\n",
       "      <td>45635547</td>\n",
       "      <td>0.555300</td>\n",
       "      <td>1.0</td>\n",
       "      <td>6.0</td>\n",
       "      <td>0</td>\n",
       "      <td>2020-02-06_09h48m17s</td>\n",
       "      <td>HMDB0001257</td>\n",
       "      <td>C7H14N</td>\n",
       "      <td>5f</td>\n",
       "      <td>positive</td>\n",
       "      <td>Orbitrap</td>\n",
       "      <td>♡EMBL♡</td>\n",
       "      <td>spotted_standards</td>\n",
       "      <td>1</td>\n",
       "    </tr>\n",
       "    <tr>\n",
       "      <td>45635569</td>\n",
       "      <td>0.971233</td>\n",
       "      <td>1.0</td>\n",
       "      <td>4.0</td>\n",
       "      <td>0</td>\n",
       "      <td>2020-02-06_09h48m17s</td>\n",
       "      <td>HMDB0001257</td>\n",
       "      <td>C7H17N2</td>\n",
       "      <td>6f</td>\n",
       "      <td>positive</td>\n",
       "      <td>Orbitrap</td>\n",
       "      <td>♡EMBL♡</td>\n",
       "      <td>spotted_standards</td>\n",
       "      <td>1</td>\n",
       "    </tr>\n",
       "    <tr>\n",
       "      <td>45636139</td>\n",
       "      <td>0.867262</td>\n",
       "      <td>1.0</td>\n",
       "      <td>4.0</td>\n",
       "      <td>0</td>\n",
       "      <td>2017-05-17_19h49m04s</td>\n",
       "      <td>HMDB0062738</td>\n",
       "      <td>C8H14NO2</td>\n",
       "      <td>21f</td>\n",
       "      <td>positive</td>\n",
       "      <td>FTICR</td>\n",
       "      <td>Genentech</td>\n",
       "      <td>wholebody</td>\n",
       "      <td>2</td>\n",
       "    </tr>\n",
       "    <tr>\n",
       "      <td>45636157</td>\n",
       "      <td>0.586806</td>\n",
       "      <td>1.0</td>\n",
       "      <td>8.0</td>\n",
       "      <td>0</td>\n",
       "      <td>2017-05-17_19h49m04s</td>\n",
       "      <td>HMDB0000830</td>\n",
       "      <td>C6H8NO4</td>\n",
       "      <td>29f</td>\n",
       "      <td>positive</td>\n",
       "      <td>FTICR</td>\n",
       "      <td>Genentech</td>\n",
       "      <td>wholebody</td>\n",
       "      <td>2</td>\n",
       "    </tr>\n",
       "    <tr>\n",
       "      <td>45636446</td>\n",
       "      <td>0.595533</td>\n",
       "      <td>1.0</td>\n",
       "      <td>1.0</td>\n",
       "      <td>0</td>\n",
       "      <td>2017-05-17_19h49m04s</td>\n",
       "      <td>HMDB0039229</td>\n",
       "      <td>C8H11N2O2</td>\n",
       "      <td>37f</td>\n",
       "      <td>positive</td>\n",
       "      <td>FTICR</td>\n",
       "      <td>Genentech</td>\n",
       "      <td>wholebody</td>\n",
       "      <td>2</td>\n",
       "    </tr>\n",
       "    <tr>\n",
       "      <td>...</td>\n",
       "      <td>...</td>\n",
       "      <td>...</td>\n",
       "      <td>...</td>\n",
       "      <td>...</td>\n",
       "      <td>...</td>\n",
       "      <td>...</td>\n",
       "      <td>...</td>\n",
       "      <td>...</td>\n",
       "      <td>...</td>\n",
       "      <td>...</td>\n",
       "      <td>...</td>\n",
       "      <td>...</td>\n",
       "      <td>...</td>\n",
       "    </tr>\n",
       "    <tr>\n",
       "      <td>89818068</td>\n",
       "      <td>0.636167</td>\n",
       "      <td>1.0</td>\n",
       "      <td>1.0</td>\n",
       "      <td>0</td>\n",
       "      <td>2018-08-01_14h23m33s</td>\n",
       "      <td>HMDB0039229</td>\n",
       "      <td>C10H14N3O4</td>\n",
       "      <td>50f</td>\n",
       "      <td>positive</td>\n",
       "      <td>FTICR</td>\n",
       "      <td>IBMP</td>\n",
       "      <td>high_quality</td>\n",
       "      <td>3</td>\n",
       "    </tr>\n",
       "    <tr>\n",
       "      <td>89829762</td>\n",
       "      <td>0.847465</td>\n",
       "      <td>1.0</td>\n",
       "      <td>3.0</td>\n",
       "      <td>0</td>\n",
       "      <td>2018-08-01_14h23m33s</td>\n",
       "      <td>HMDB0000133</td>\n",
       "      <td>C10H13N4O5</td>\n",
       "      <td>23f</td>\n",
       "      <td>positive</td>\n",
       "      <td>FTICR</td>\n",
       "      <td>IBMP</td>\n",
       "      <td>high_quality</td>\n",
       "      <td>3</td>\n",
       "    </tr>\n",
       "    <tr>\n",
       "      <td>89843868</td>\n",
       "      <td>0.733678</td>\n",
       "      <td>1.0</td>\n",
       "      <td>0.0</td>\n",
       "      <td>0</td>\n",
       "      <td>2018-08-01_14h23m33s</td>\n",
       "      <td>HMDB0006317</td>\n",
       "      <td>C21H40NO2</td>\n",
       "      <td>39f</td>\n",
       "      <td>positive</td>\n",
       "      <td>FTICR</td>\n",
       "      <td>IBMP</td>\n",
       "      <td>high_quality</td>\n",
       "      <td>3</td>\n",
       "    </tr>\n",
       "    <tr>\n",
       "      <td>89852033</td>\n",
       "      <td>0.769318</td>\n",
       "      <td>1.0</td>\n",
       "      <td>0.0</td>\n",
       "      <td>0</td>\n",
       "      <td>2018-08-01_14h23m33s</td>\n",
       "      <td>HMDB0006317</td>\n",
       "      <td>C22H44NO2</td>\n",
       "      <td>41f</td>\n",
       "      <td>positive</td>\n",
       "      <td>FTICR</td>\n",
       "      <td>IBMP</td>\n",
       "      <td>high_quality</td>\n",
       "      <td>3</td>\n",
       "    </tr>\n",
       "    <tr>\n",
       "      <td>89999872</td>\n",
       "      <td>0.761446</td>\n",
       "      <td>1.0</td>\n",
       "      <td>1.0</td>\n",
       "      <td>0</td>\n",
       "      <td>2018-08-01_14h23m33s</td>\n",
       "      <td>HMDB0013468</td>\n",
       "      <td>C40H73NO6P</td>\n",
       "      <td>38f</td>\n",
       "      <td>positive</td>\n",
       "      <td>FTICR</td>\n",
       "      <td>IBMP</td>\n",
       "      <td>high_quality</td>\n",
       "      <td>3</td>\n",
       "    </tr>\n",
       "  </tbody>\n",
       "</table>\n",
       "<p>230 rows × 13 columns</p>\n",
       "</div>"
      ],
      "text/plain": [
       "               cos  db_n_isobar_par  db_n_isobar_frag  ds_n_isobar_frag  \\\n",
       "45635547  0.555300              1.0               6.0                 0   \n",
       "45635569  0.971233              1.0               4.0                 0   \n",
       "45636139  0.867262              1.0               4.0                 0   \n",
       "45636157  0.586806              1.0               8.0                 0   \n",
       "45636446  0.595533              1.0               1.0                 0   \n",
       "...            ...              ...               ...               ...   \n",
       "89818068  0.636167              1.0               1.0                 0   \n",
       "89829762  0.847465              1.0               3.0                 0   \n",
       "89843868  0.733678              1.0               0.0                 0   \n",
       "89852033  0.769318              1.0               0.0                 0   \n",
       "89999872  0.761446              1.0               1.0                 0   \n",
       "\n",
       "                         ds_id         id_x     formula par_frag  polarity  \\\n",
       "45635547  2020-02-06_09h48m17s  HMDB0001257      C7H14N       5f  positive   \n",
       "45635569  2020-02-06_09h48m17s  HMDB0001257     C7H17N2       6f  positive   \n",
       "45636139  2017-05-17_19h49m04s  HMDB0062738    C8H14NO2      21f  positive   \n",
       "45636157  2017-05-17_19h49m04s  HMDB0000830     C6H8NO4      29f  positive   \n",
       "45636446  2017-05-17_19h49m04s  HMDB0039229   C8H11N2O2      37f  positive   \n",
       "...                        ...          ...         ...      ...       ...   \n",
       "89818068  2018-08-01_14h23m33s  HMDB0039229  C10H14N3O4      50f  positive   \n",
       "89829762  2018-08-01_14h23m33s  HMDB0000133  C10H13N4O5      23f  positive   \n",
       "89843868  2018-08-01_14h23m33s  HMDB0006317   C21H40NO2      39f  positive   \n",
       "89852033  2018-08-01_14h23m33s  HMDB0006317   C22H44NO2      41f  positive   \n",
       "89999872  2018-08-01_14h23m33s  HMDB0013468  C40H73NO6P      38f  positive   \n",
       "\n",
       "          analyzer      group          expt_type  filter  \n",
       "45635547  Orbitrap     ♡EMBL♡  spotted_standards       1  \n",
       "45635569  Orbitrap     ♡EMBL♡  spotted_standards       1  \n",
       "45636139     FTICR  Genentech          wholebody       2  \n",
       "45636157     FTICR  Genentech          wholebody       2  \n",
       "45636446     FTICR  Genentech          wholebody       2  \n",
       "...            ...        ...                ...     ...  \n",
       "89818068     FTICR       IBMP       high_quality       3  \n",
       "89829762     FTICR       IBMP       high_quality       3  \n",
       "89843868     FTICR       IBMP       high_quality       3  \n",
       "89852033     FTICR       IBMP       high_quality       3  \n",
       "89999872     FTICR       IBMP       high_quality       3  \n",
       "\n",
       "[230 rows x 13 columns]"
      ]
     },
     "execution_count": 41,
     "metadata": {},
     "output_type": "execute_result"
    }
   ],
   "source": [
    "expt_df"
   ]
  },
  {
   "cell_type": "code",
   "execution_count": 44,
   "metadata": {},
   "outputs": [
    {
     "data": {
      "text/plain": [
       "33"
      ]
     },
     "execution_count": 44,
     "metadata": {},
     "output_type": "execute_result"
    }
   ],
   "source": [
    "len(expt_df.id_x.value_counts())"
   ]
  },
  {
   "cell_type": "code",
   "execution_count": 42,
   "metadata": {
    "scrolled": true
   },
   "outputs": [],
   "source": [
    "# Export subset of filtered vectors\n",
    "expt_df.to_csv('data_analysis/positive_1x_ds_unique.csv')"
   ]
  },
  {
   "cell_type": "code",
   "execution_count": null,
   "metadata": {},
   "outputs": [],
   "source": [
    "out_df.to_csv('data_analysis/filtered_and_scored_df.csv')"
   ]
  },
  {
   "cell_type": "code",
   "execution_count": null,
   "metadata": {},
   "outputs": [],
   "source": [
    "# Explore ."
   ]
  },
  {
   "cell_type": "markdown",
   "metadata": {},
   "source": [
    "Bugs:\n",
    "1. Some results are doubled?  \n",
    "2. Why?  Where?\n",
    "3. 177.6M rows --> 2.5M rows overall.\n",
    "--> df.drop_duplicates()\n",
    "\n",
    "Future:\n",
    "4. Graph on filter level\n",
    "5. Graph on vector level"
   ]
  },
  {
   "cell_type": "code",
   "execution_count": null,
   "metadata": {},
   "outputs": [],
   "source": []
  }
 ],
 "metadata": {
  "kernelspec": {
   "display_name": "Python 3",
   "language": "python",
   "name": "python3"
  },
  "language_info": {
   "codemirror_mode": {
    "name": "ipython",
    "version": 3
   },
   "file_extension": ".py",
   "mimetype": "text/x-python",
   "name": "python",
   "nbconvert_exporter": "python",
   "pygments_lexer": "ipython3",
   "version": "3.7.3"
  }
 },
 "nbformat": 4,
 "nbformat_minor": 2
}
