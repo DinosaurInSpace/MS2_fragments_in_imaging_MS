{
 "cells": [
  {
   "cell_type": "code",
   "execution_count": 1,
   "metadata": {},
   "outputs": [],
   "source": [
    "# Will reload modeules after this when they change!\n",
    "%load_ext autoreload\n",
    "%autoreload 2"
   ]
  },
  {
   "cell_type": "code",
   "execution_count": 2,
   "metadata": {},
   "outputs": [],
   "source": [
    "import pandas as pd\n",
    "import numpy as np"
   ]
  },
  {
   "cell_type": "code",
   "execution_count": null,
   "metadata": {},
   "outputs": [],
   "source": [
    "# Parses HMDB xml download, only necessary when database is updated or downloaded again.\n",
    "!python hmdb_parser.py --input /Users/dis/Desktop/hmdb_LCMS/ --output databases/ --polarity both"
   ]
  },
  {
   "cell_type": "code",
   "execution_count": null,
   "metadata": {},
   "outputs": [],
   "source": [
    "# Parses HMDB xml download, only necessary when database is updated or downloaded again.\n",
    "!python query_mona.py --input /Users/dis/PycharmProjects/core_metabolome/core_metabolome_v3.pickle --output databases/ --polarity negative "
   ]
  },
  {
   "cell_type": "code",
   "execution_count": null,
   "metadata": {},
   "outputs": [],
   "source": [
    "# Paths to databases and outputfor next cell\n",
    "database_in_path = '/Users/dis/PycharmProjects/core_metabolome/core_metabolome_v3.pickle'\n",
    "gnps_exp_all = 'databases/gnps_exp_all.json'\n",
    "hmdb_exp_negative = 'databases/hmdb_exp_negative.pickle'\n",
    "hmdb_exp_positive = 'databases/hmdb_exp_positive.pickle'\n",
    "hmdb_theo_negative = 'databases/hmdb_theo_negative.pickle'\n",
    "hmdb_theo_positive = 'databases/hmdb_theo_positive.pickle'\n",
    "mona_exp_negative = 'databases/mona_exp_negative.pickle'\n",
    "mona_exp_positive = 'databases/mona_exp_positive.pickle'"
   ]
  },
  {
   "cell_type": "code",
   "execution_count": null,
   "metadata": {},
   "outputs": [],
   "source": [
    "# Generate reference database limited to cmpds with theo/exp spectra\n",
    "from parse_reference_spectra import output_loop\n",
    "\n",
    "output_loop(database_in_path,\n",
    "            'databases/',\n",
    "            gnps_exp_all,\n",
    "            hmdb_exp_positive,\n",
    "            hmdb_exp_negative,\n",
    "            hmdb_theo_positive,\n",
    "            hmdb_theo_negative,\n",
    "            mona_exp_positive,\n",
    "            mona_exp_negative\n",
    "           )"
   ]
  },
  {
   "cell_type": "code",
   "execution_count": null,
   "metadata": {},
   "outputs": [],
   "source": [
    "# Paths to databases and output for next cell\n",
    "ref_expt_db = 'databases/ref_expt_df.pickle'\n",
    "ref_theo_db = 'databases/ref_theo_df.pickle'\n",
    "gnps_exp_all = 'databases/gnps_df.pickle'"
   ]
  },
  {
   "cell_type": "code",
   "execution_count": null,
   "metadata": {},
   "outputs": [],
   "source": [
    "# Parses spectra from databases and runs Sirius\n",
    "from spectra_to_sirius import master_loop\n",
    "\n",
    "master_loop(ref_expt_db,\n",
    "            'test_output/',\n",
    "            gnps_exp_all,\n",
    "            hmdb_exp_positive,\n",
    "            hmdb_exp_negative,\n",
    "            hmdb_theo_positive,\n",
    "            hmdb_theo_negative,\n",
    "            mona_exp_positive,\n",
    "            mona_exp_negative,\n",
    "            'positive',\n",
    "            'exp'\n",
    "           )\n",
    "\n",
    "master_loop(ref_expt_db,\n",
    "            'test_output/',\n",
    "            gnps_exp_all,\n",
    "            hmdb_exp_positive,\n",
    "            hmdb_exp_negative,\n",
    "            hmdb_theo_positive,\n",
    "            hmdb_theo_negative,\n",
    "            mona_exp_positive,\n",
    "            mona_exp_negative,\n",
    "            'negative',\n",
    "            'exp'\n",
    "           )\n",
    "\n",
    "master_loop(ref_theo_db,\n",
    "            'test_output/',\n",
    "            gnps_exp_all,\n",
    "            hmdb_exp_positive,\n",
    "            hmdb_exp_negative,\n",
    "            hmdb_theo_positive,\n",
    "            hmdb_theo_negative,\n",
    "            mona_exp_positive,\n",
    "            mona_exp_negative,\n",
    "            'positive',\n",
    "            'theo'\n",
    "           )\n",
    "\n",
    "master_loop(ref_theo_db,\n",
    "            'test_output/',\n",
    "            gnps_exp_all,\n",
    "            hmdb_exp_positive,\n",
    "            hmdb_exp_negative,\n",
    "            hmdb_theo_positive,\n",
    "            hmdb_theo_negative,\n",
    "            mona_exp_positive,\n",
    "            mona_exp_negative,\n",
    "            'negative',\n",
    "            'theo'\n",
    "           )\n",
    "\n"
   ]
  },
  {
   "cell_type": "code",
   "execution_count": null,
   "metadata": {
    "scrolled": true
   },
   "outputs": [],
   "source": [
    "x = pd.read_pickle('databases/ref_expt_df.pickle')\n",
    "y = list(x.id.sample(20))\n",
    "y"
   ]
  },
  {
   "cell_type": "code",
   "execution_count": 4,
   "metadata": {},
   "outputs": [],
   "source": [
    "# Paths to databases and output for next cell\n",
    "limit_list = []\n",
    "outname = ''\n",
    "out_path = 'to_metaspace/'\n",
    "polarity = None\n",
    "expt_neg = 'test_output/exp_negative.pickle'\n",
    "expt_pos = 'test_output/exp_positive.pickle'\n",
    "theo_neg = 'test_output/theo_negative.pickle'\n",
    "theo_pos = 'test_output/theo_positive.pickle'\n",
    "ref_expt = 'databases/ref_expt_df.pickle'\n",
    "ref_theo = 'databases/ref_theo_df.pickle'"
   ]
  },
  {
   "cell_type": "code",
   "execution_count": null,
   "metadata": {
    "scrolled": true
   },
   "outputs": [
    {
     "name": "stdout",
     "output_type": "stream",
     "text": [
      "2 sirius_output_df (9634, 3)                                                                                                exists  \\\n",
      "0_HMDB0003361_Pyrimidine                            trees/positive_0_HMDB0003361_Pyrimidine/0_HMDB...   \n",
      "5_HMDB0029713_Thiazole                              trees/positive_5_HMDB0029713_Thiazole/5_HMDB00...   \n",
      "17_HMDB0001414_Putrescine                           trees/positive_17_HMDB0001414_Putrescine/17_HM...   \n",
      "18_HMDB0000056_betaAlanine                          trees/positive_18_HMDB0000056_betaAlanine/18_H...   \n",
      "19_HMDB0000161_LAlanine                             trees/positive_19_HMDB0000161_LAlanine/19_HMDB...   \n",
      "...                                                                                               ...   \n",
      "11431_HMDB0058988_CL2045Z8Z11Z14Z1802045Z8Z11Z1...  trees/positive_11431_HMDB0058988_CL2045Z8Z11Z1...   \n",
      "11432_HMDB0057261_CL1802045Z8Z11Z14Z2045Z8Z11Z1...  trees/positive_11432_HMDB0057261_CL1802045Z8Z1...   \n",
      "11433_HMDB0059079_CL2045Z8Z11Z14Z2045Z8Z11Z14Z2...  trees/positive_11433_HMDB0059079_CL2045Z8Z11Z1...   \n",
      "11434_HMDB0013072_Somatostatin                      trees/positive_11434_HMDB0013072_Somatostatin/...   \n",
      "11435_HMDB0004932_Ganglioside_GD2_d181240           trees/positive_11435_HMDB0004932_Ganglioside_G...   \n",
      "\n",
      "                                                          source  polarity  \n",
      "0_HMDB0003361_Pyrimidine                            experimental  positive  \n",
      "5_HMDB0029713_Thiazole                              experimental  positive  \n",
      "17_HMDB0001414_Putrescine                           experimental  positive  \n",
      "18_HMDB0000056_betaAlanine                          experimental  positive  \n",
      "19_HMDB0000161_LAlanine                             experimental  positive  \n",
      "...                                                          ...       ...  \n",
      "11431_HMDB0058988_CL2045Z8Z11Z14Z1802045Z8Z11Z1...   theoretical  positive  \n",
      "11432_HMDB0057261_CL1802045Z8Z11Z14Z2045Z8Z11Z1...   theoretical  positive  \n",
      "11433_HMDB0059079_CL2045Z8Z11Z14Z2045Z8Z11Z14Z2...   theoretical  positive  \n",
      "11434_HMDB0013072_Somatostatin                       theoretical  positive  \n",
      "11435_HMDB0004932_Ganglioside_GD2_d181240            theoretical  positive  \n",
      "\n",
      "[9634 rows x 3 columns]\n",
      "10 (9634, 10)\n",
      "df_merge:  1000\n",
      "df_merge:  2000\n",
      "df_merge:  3000\n",
      "df_merge:  4000\n",
      "df_merge:  5000\n",
      "df_merge:  6000\n",
      "df_merge:  7000\n",
      "df_merge:  8000\n",
      "df_merge:  9000\n",
      "2 (189784, 15)  1     187788\n",
      " 22      1412\n",
      " 38       579\n",
      "-4          3\n",
      "-10         1\n",
      " 0          1\n",
      "Name: dmass, dtype: int64\n",
      "3 (189780, 15)\n",
      "Observed ions: \n",
      " 1     187788\n",
      "22      1412\n",
      "38       579\n",
      "0          1\n",
      "Name: dmass, dtype: int64\n",
      "4 (189750, 15)\n"
     ]
    }
   ],
   "source": [
    "# Generats METASPACE database from Sirius output files\n",
    "from sirius_to_metaspace_db import primary_loop\n",
    "\n",
    "primary_loop([],\n",
    "             'cm3_msms_all_pos',\n",
    "             out_path,\n",
    "             'positive',\n",
    "             expt_pos,\n",
    "             theo_pos,\n",
    "             expt_neg,\n",
    "             theo_neg,\n",
    "             ref_expt,\n",
    "             ref_theo\n",
    "             )\n",
    "\n",
    "# Check output is okay: \n",
    "# http://localhost:8888/notebooks/PycharmProjects/word2vec/metaspace_MSMS_adduct_output_check.ipynb"
   ]
  },
  {
   "cell_type": "code",
   "execution_count": null,
   "metadata": {},
   "outputs": [],
   "source": [
    "# Copy spotting datasets to beta:\n",
    "from clone_ds_to_beta import copy_beta\n",
    "\n",
    "spotted_ds = ['2020-03-12_17h55m21s', \n",
    "              '2020-03-15_19h57m37s',\n",
    "              '2020-01-29_17h04m12s',\n",
    "              '2020-02-06_09h48m17s',\n",
    "              '2020-03-03_10h05m06s',\n",
    "              '2019-05-28_13h26m26s',\n",
    "              '2019-05-28_17h27m37s',\n",
    "              '2019-05-29_16h19m01s',\n",
    "              '2019-05-31_12h00m59s'\n",
    "             ]\n",
    "out_dict_list = []\n",
    "for ds in spotted_ds:\n",
    "    x = copy_beta(ds, 'HNaKM', 'core_metabolome_v3')\n",
    "    out_dict_list.append(x)\n",
    "    \n",
    "out_df = pd.DataFrame(out_dict_list)\n",
    "out_df.to_pickle('dsid_processing/spotting_cm3_df.pickle')"
   ]
  }
 ],
 "metadata": {
  "kernelspec": {
   "display_name": "Python 3",
   "language": "python",
   "name": "python3"
  },
  "language_info": {
   "codemirror_mode": {
    "name": "ipython",
    "version": 3
   },
   "file_extension": ".py",
   "mimetype": "text/x-python",
   "name": "python",
   "nbconvert_exporter": "python",
   "pygments_lexer": "ipython3",
   "version": "3.6.8"
  }
 },
 "nbformat": 4,
 "nbformat_minor": 2
}
