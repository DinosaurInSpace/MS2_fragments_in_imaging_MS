{
 "cells": [
  {
   "cell_type": "code",
   "execution_count": 1,
   "metadata": {},
   "outputs": [],
   "source": [
    "import shlex\n",
    "from subprocess import Popen, PIPE\n",
    "from threading import Timer"
   ]
  },
  {
   "cell_type": "code",
   "execution_count": 2,
   "metadata": {},
   "outputs": [],
   "source": [
    "# Timeout test\n",
    "# https://stackoverflow.com/questions/1191374/using-module-subprocess-with-timeout"
   ]
  },
  {
   "cell_type": "code",
   "execution_count": 32,
   "metadata": {},
   "outputs": [],
   "source": [
    "def run(cmd, timeout_sec):\n",
    "    proc = Popen(shlex.split(cmd), stdout=PIPE, stderr=PIPE)\n",
    "    timer = Timer(timeout_sec, proc.kill)\n",
    "    try:\n",
    "        timer.start()\n",
    "        stdout, stderr = proc.communicate()\n",
    "    \n",
    "    finally:\n",
    "        timer.cancel()\n",
    "    \n",
    "    if stdout.decode(\"utf-8\")  == '':\n",
    "        return('failed')\n",
    "\n",
    "    else:\n",
    "        return stdout.decode(\"utf-8\")"
   ]
  },
  {
   "cell_type": "code",
   "execution_count": 33,
   "metadata": {},
   "outputs": [
    {
     "data": {
      "text/plain": [
       "'/Users/dis/PycharmProjects/word2vec\\n'"
      ]
     },
     "execution_count": 33,
     "metadata": {},
     "output_type": "execute_result"
    }
   ],
   "source": [
    "# Examples: both take 1 second\n",
    "run(\"pwd\", 5)  # process ends normally at 1 second"
   ]
  },
  {
   "cell_type": "code",
   "execution_count": 34,
   "metadata": {},
   "outputs": [
    {
     "data": {
      "text/plain": [
       "'failed'"
      ]
     },
     "execution_count": 34,
     "metadata": {},
     "output_type": "execute_result"
    }
   ],
   "source": [
    "# Examples: both take 1 second\n",
    "run(\"sleep 5; pwd\", 1)  # timeout happens at 1 second"
   ]
  },
  {
   "cell_type": "code",
   "execution_count": null,
   "metadata": {},
   "outputs": [],
   "source": []
  }
 ],
 "metadata": {
  "kernelspec": {
   "display_name": "Python 3",
   "language": "python",
   "name": "python3"
  },
  "language_info": {
   "codemirror_mode": {
    "name": "ipython",
    "version": 3
   },
   "file_extension": ".py",
   "mimetype": "text/x-python",
   "name": "python",
   "nbconvert_exporter": "python",
   "pygments_lexer": "ipython3",
   "version": "3.6.8"
  }
 },
 "nbformat": 4,
 "nbformat_minor": 2
}
