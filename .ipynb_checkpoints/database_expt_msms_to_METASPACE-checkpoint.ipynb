{
 "cells": [
  {
   "cell_type": "code",
   "execution_count": 1,
   "metadata": {},
   "outputs": [],
   "source": [
    "# Will reload modeules after this when they change!\n",
    "%load_ext autoreload\n",
    "%autoreload 2"
   ]
  },
  {
   "cell_type": "code",
   "execution_count": 202,
   "metadata": {},
   "outputs": [],
   "source": [
    "import pandas as pd\n",
    "import numpy as np\n",
    "import json\n",
    "import os\n",
    "from string import digits\n",
    "\n",
    "# RDKit\n",
    "import rdkit\n",
    "from rdkit import Chem\n",
    "from rdkit.Chem import AllChem\n",
    "from rdkit.Chem import Draw\n",
    "\n",
    "from molmass import Formula\n",
    "\n",
    "from main_functions import *"
   ]
  },
  {
   "cell_type": "markdown",
   "metadata": {},
   "source": [
    "# Molecule database merge with experimental MS/MS data for METASPACE.\n",
    "\n",
    "This script merges a molecule databae with experimental MS/MS data.  These data can then be submitted to METASPACE to search for nuetral loss and in-source fragments within datasets.\n",
    "\n",
    "See: /Users/dis/PycharmProjects/word2vec/main_functions.py"
   ]
  },
  {
   "cell_type": "code",
   "execution_count": 3,
   "metadata": {},
   "outputs": [],
   "source": [
    "# Load reference database by path:\n",
    "path = '/Users/dis/PycharmProjects/core_metabolome/core_metabolome_v3.pickle'\n",
    "ref_db = load_molecule_database(path)"
   ]
  },
  {
   "cell_type": "code",
   "execution_count": 4,
   "metadata": {},
   "outputs": [],
   "source": [
    "# Parses GNPS_json to GNPS_df:\n",
    "GNPS_json = '/Users/dis/PycharmProjects/word2vec/ALL_GNPS.json'\n",
    "GNPS_df = parse_GNPS_json(GNPS_json)"
   ]
  },
  {
   "cell_type": "code",
   "execution_count": null,
   "metadata": {},
   "outputs": [],
   "source": []
  },
  {
   "cell_type": "code",
   "execution_count": 494,
   "metadata": {},
   "outputs": [],
   "source": [
    "# GNPS lipid rescue (not complete)\n",
    "GNPS_json = '/Users/dis/PycharmProjects/word2vec/ALL_GNPS.json'\n",
    "with open(GNPS_json, \"r\") as read_file:\n",
    "    GNPS_data = json.load(read_file)\n",
    "    GNPS_df = pd.DataFrame(GNPS_data)"
   ]
  },
  {
   "cell_type": "code",
   "execution_count": null,
   "metadata": {},
   "outputs": [],
   "source": []
  },
  {
   "cell_type": "code",
   "execution_count": null,
   "metadata": {},
   "outputs": [],
   "source": [
    "good_libs = ['GNPS-LIBRARY', 'GNPS-EMBL-MCF',\n",
    "             'MMV_POSITIVE', 'MMV_NEGATIVE', \n",
    "             'LDB_POSITIVE', 'LDB_NEGATIVE',\n",
    "             'GNPS-NIST14-MATCHES', 'GNPS-COLLECTIONS-MISC',\n",
    "             'GNPS-MSMLS', 'BILELIB19', \n",
    "             'PNNL-LIPIDS-POSITIVE', 'PNNL-LIPIDS-NEGATIVE', \n",
    "             'MIADB', 'MASSBANK', 'MASSBANKEU', 'MONA', \n",
    "             'RESPECT', 'HMDB', 'CASMI', 'SUMNER']"
   ]
  },
  {
   "cell_type": "code",
   "execution_count": 498,
   "metadata": {},
   "outputs": [],
   "source": [
    "# Identifies subset of GNPS with experimental specrta in ref db:\n",
    "# Result: # 3920 spectra for 508 can_no_stereo_smiles\n",
    "GNPS_hits_df = search_GNPS_targets(ref_db, GNPS_df)"
   ]
  },
  {
   "cell_type": "code",
   "execution_count": 502,
   "metadata": {},
   "outputs": [
    {
     "data": {
      "text/plain": [
       "MASSBANK                                           1640\n",
       "RESPECT                                            1369\n",
       "HMDB                                               1269\n",
       "GNPS-MSMLS                                          469\n",
       "BILELIB19                                           441\n",
       "GNPS-EMBL-MCF                                       258\n",
       "GNPS-LIBRARY                                        115\n",
       "SUMNER                                               95\n",
       "GNPS-NIH-SMALLMOLECULEPHARMACOLOGICALLYACTIVE        41\n",
       "GNPS-NIH-NATURALPRODUCTSLIBRARY_ROUND2_POSITIVE      25\n",
       "MASSBANKEU                                           18\n",
       "GNPS-NIST14-MATCHES                                  15\n",
       "CASMI                                                14\n",
       "LDB_NEGATIVE                                         11\n",
       "GNPS-NIH-CLINICALCOLLECTION1                         10\n",
       "GNPS-SELLECKCHEM-FDA-PART2                           10\n",
       "GNPS-NIH-NATURALPRODUCTSLIBRARY_ROUND2_NEGATIVE       9\n",
       "LDB_POSITIVE                                          7\n",
       "GNPS-NIH-NATURALPRODUCTSLIBRARY                       6\n",
       "GNPS-COLLECTIONS-MISC                                 3\n",
       "GNPS-PRESTWICKPHYTOCHEM                               1\n",
       "MONA                                                  1\n",
       "Name: library_membership, dtype: int64"
      ]
     },
     "execution_count": 502,
     "metadata": {},
     "output_type": "execute_result"
    }
   ],
   "source": [
    "GNPS_hits_df.library_membership.value_counts()"
   ]
  },
  {
   "cell_type": "code",
   "execution_count": 6,
   "metadata": {},
   "outputs": [
    {
     "data": {
      "text/plain": [
       "M+H        1982\n",
       "M-H         923\n",
       "M+Na        464\n",
       "M+K         219\n",
       "M+NH4+      176\n",
       "M-H2O+H     135\n",
       "M+NH4        13\n",
       "M+            6\n",
       "M+Cl          1\n",
       "M-H2O-H       1\n",
       "Name: Adduct, dtype: int64"
      ]
     },
     "execution_count": 6,
     "metadata": {},
     "output_type": "execute_result"
    }
   ],
   "source": [
    "GNPS_hits_df.Adduct.value_counts()"
   ]
  },
  {
   "cell_type": "code",
   "execution_count": 7,
   "metadata": {},
   "outputs": [],
   "source": [
    "# Identifies subset of Mona with experimental specrta in ref db, runs in a few hours\n",
    "# Result: # 7646 spectra for 648 inchi matches\n",
    "# Mona_hits_df = search_MONA(ref_db)\n",
    "\n",
    "# Reload existing:\n",
    "Mona_hits_df = pd.read_pickle('mona_2020_Apr_15.pickle')\n",
    "\n",
    "# Filters Mona_hits_df for high-res instruments, good adducts, and <20 ppm error.\n",
    "# Result: # 3437 spectra for 535 inchi matches\n",
    "Mona_hits_df = parse_MONA_out(Mona_hits_df)"
   ]
  },
  {
   "cell_type": "code",
   "execution_count": 8,
   "metadata": {},
   "outputs": [
    {
     "data": {
      "text/plain": [
       "M+H        2805\n",
       "M+Na        254\n",
       "M+K         153\n",
       "M+NH4+      142\n",
       "M-H2O+H      56\n",
       "M+           27\n",
       "Name: adduct, dtype: int64"
      ]
     },
     "execution_count": 8,
     "metadata": {},
     "output_type": "execute_result"
    }
   ],
   "source": [
    "Mona_hits_df.adduct.value_counts()"
   ]
  },
  {
   "cell_type": "code",
   "execution_count": 9,
   "metadata": {},
   "outputs": [
    {
     "data": {
      "text/plain": [
       "MassBank                                   1197\n",
       "Vaniya/Fiehn Natural Products Library       836\n",
       "unknown                                     471\n",
       "Fiehn HILIC Library                         379\n",
       "GNPS                                        296\n",
       "ReSpect                                     199\n",
       "RIKEN PlaSMA Authentic Standard Library      59\n",
       "Name: source, dtype: int64"
      ]
     },
     "execution_count": 9,
     "metadata": {},
     "output_type": "execute_result"
    }
   ],
   "source": [
    "Mona_hits_df.source.value_counts()"
   ]
  },
  {
   "cell_type": "code",
   "execution_count": 22,
   "metadata": {},
   "outputs": [],
   "source": [
    "# Cleans up ref db for only entries with experimental MS/MS spectra\n",
    "df = preparser_Sirius(ref_db, GNPS_hits_df, Mona_hits_df)"
   ]
  },
  {
   "cell_type": "code",
   "execution_count": null,
   "metadata": {},
   "outputs": [],
   "source": [
    "# Runs main Sirius loop\n",
    "sirius_output_df = loop_Sirius(df, Mona_hits_df, GNPS_hits_df)"
   ]
  },
  {
   "cell_type": "code",
   "execution_count": 24,
   "metadata": {},
   "outputs": [],
   "source": [
    "# Reload without rerunning\n",
    "# sirius_output_df.to_pickle('sirius_output_df.pickle')\n",
    "sirius_output_df = pd.read_pickle('sirius_output_df.pickle')"
   ]
  },
  {
   "cell_type": "code",
   "execution_count": 33,
   "metadata": {},
   "outputs": [],
   "source": [
    "# Clean-up and merge output with MS2 spectra\n",
    "clean_output_df = results_clean_up(df, sirius_output_df)"
   ]
  },
  {
   "cell_type": "code",
   "execution_count": null,
   "metadata": {},
   "outputs": [],
   "source": [
    "# Clean-up database for METASPACE\n",
    "METASPACE_db = output_METASPACE(clean_output_df, out_name)"
   ]
  },
  {
   "cell_type": "code",
   "execution_count": 464,
   "metadata": {},
   "outputs": [],
   "source": [
    "# Export entire db\n",
    "METASPACE_db.iloc[:,0:4].to_csv('whole_body_msms_test_v2.csv', sep='\\t')"
   ]
  },
  {
   "cell_type": "code",
   "execution_count": null,
   "metadata": {},
   "outputs": [],
   "source": [
    "# Filter DB for observed MS1 and export:\n",
    "f2_ids = list(pd.read_csv('f2.txt').moleculeIds)\n",
    "METASPACE_db = METASPACE_db[METASPACE_db.old_id.isin(f2_ids)]\n",
    "METASPACE_db.iloc[:,0:4].to_csv('whole_body_msms_test_v3.csv', sep='\\t')"
   ]
  },
  {
   "cell_type": "code",
   "execution_count": 491,
   "metadata": {},
   "outputs": [],
   "source": [
    "# Before filtering 10019 fragments for 776 parents\n",
    "# After fitering 1228 fragments for 111 parents "
   ]
  },
  {
   "cell_type": "code",
   "execution_count": 634,
   "metadata": {},
   "outputs": [
    {
     "ename": "NameError",
     "evalue": "name 'extract_results_METASPACE' is not defined",
     "output_type": "error",
     "traceback": [
      "\u001b[0;31m---------------------------------------------------------------------------\u001b[0m",
      "\u001b[0;31mNameError\u001b[0m                                 Traceback (most recent call last)",
      "\u001b[0;32m<ipython-input-634-9a5a235537cc>\u001b[0m in \u001b[0;36m<module>\u001b[0;34m\u001b[0m\n\u001b[1;32m      1\u001b[0m \u001b[0mms_out\u001b[0m \u001b[0;34m=\u001b[0m \u001b[0mpd\u001b[0m\u001b[0;34m.\u001b[0m\u001b[0mread_csv\u001b[0m\u001b[0;34m(\u001b[0m\u001b[0;34m'metaspace_annotations.csv'\u001b[0m\u001b[0;34m,\u001b[0m \u001b[0mheader\u001b[0m\u001b[0;34m=\u001b[0m\u001b[0;36m2\u001b[0m\u001b[0;34m)\u001b[0m\u001b[0;34m\u001b[0m\u001b[0;34m\u001b[0m\u001b[0m\n\u001b[0;32m----> 2\u001b[0;31m \u001b[0mms_out\u001b[0m \u001b[0;34m=\u001b[0m \u001b[0mextract_results_METASPACE\u001b[0m\u001b[0;34m(\u001b[0m\u001b[0mms_out\u001b[0m\u001b[0;34m)\u001b[0m\u001b[0;34m\u001b[0m\u001b[0;34m\u001b[0m\u001b[0m\n\u001b[0m",
      "\u001b[0;31mNameError\u001b[0m: name 'extract_results_METASPACE' is not defined"
     ]
    }
   ],
   "source": [
    "# Load search results from METASPACE run off line after database\n",
    "ms_out = pd.read_csv('metaspace_annotations.csv', header=2)\n",
    "ms_out = extract_results_METASPACE(ms_out)\n",
    "ms_out.to_pickle('ms_out_v3_test01.pickle')"
   ]
  },
  {
   "cell_type": "markdown",
   "metadata": {},
   "source": [
    "Local plotting here:\n",
    "http://localhost:8888/notebooks/PycharmProjects/word2vec/IMS_plotter_v2.ipynb"
   ]
  },
  {
   "cell_type": "markdown",
   "metadata": {},
   "source": [
    "# Friday:\n",
    "1. Key questions:\n",
    "    1.1. How often it works? \n",
    "    1.2. How much overlap in m/z is between ions? \n",
    "    1.3. How much overlap in space?\n",
    "2. API access ion images and put in folders as pairs\n",
    "3. Add libraries HMDB, all Mona dl, PNNL in GNPS\n",
    "\n",
    "Next Jupyter notebook extract data from METASPACE:\n",
    "http://localhost:8888/notebooks/PycharmProjects/word2vec/export_ion_mages.ipynb\n",
    "Next Jupyter notebook extract data locally:\n",
    "http://localhost:8888/notebooks/PycharmProjects/word2vec/IMS_plotter_v2.ipynb"
   ]
  },
  {
   "cell_type": "code",
   "execution_count": null,
   "metadata": {},
   "outputs": [],
   "source": []
  }
 ],
 "metadata": {
  "kernelspec": {
   "display_name": "Python 3",
   "language": "python",
   "name": "python3"
  },
  "language_info": {
   "codemirror_mode": {
    "name": "ipython",
    "version": 3
   },
   "file_extension": ".py",
   "mimetype": "text/x-python",
   "name": "python",
   "nbconvert_exporter": "python",
   "pygments_lexer": "ipython3",
   "version": "3.6.8"
  }
 },
 "nbformat": 4,
 "nbformat_minor": 2
}
