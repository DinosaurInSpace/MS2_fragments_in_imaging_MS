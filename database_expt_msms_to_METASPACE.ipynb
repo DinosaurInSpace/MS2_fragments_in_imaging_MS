{
 "cells": [
  {
   "cell_type": "code",
   "execution_count": 1,
   "metadata": {},
   "outputs": [],
   "source": [
    "# Will reload modeules after this when they change!\n",
    "%load_ext autoreload\n",
    "%autoreload 2"
   ]
  },
  {
   "cell_type": "code",
   "execution_count": 2,
   "metadata": {},
   "outputs": [],
   "source": [
    "import pandas as pd\n",
    "import numpy as np\n",
    "import json\n",
    "import os\n",
    "from string import digits\n",
    "import glob\n",
    "import re\n",
    "\n",
    "# RDKit\n",
    "import rdkit\n",
    "from rdkit import Chem\n",
    "from rdkit.Chem import AllChem\n",
    "from rdkit.Chem import Draw\n",
    "\n",
    "from molmass import Formula\n",
    "\n",
    "from main_functions import *"
   ]
  },
  {
   "cell_type": "markdown",
   "metadata": {},
   "source": [
    "# Molecule database merge with experimental MS/MS data for METASPACE.\n",
    "\n",
    "This script merges a molecule databae with experimental MS/MS data.  These data can then be submitted to METASPACE to search for nuetral loss and in-source fragments within datasets.\n",
    "\n",
    "See: /Users/dis/PycharmProjects/word2vec/main_functions.py"
   ]
  },
  {
   "cell_type": "code",
   "execution_count": 3,
   "metadata": {},
   "outputs": [],
   "source": [
    "# Load reference database by path:\n",
    "path = '/Users/dis/PycharmProjects/core_metabolome/core_metabolome_v3.pickle'\n",
    "ref_db = load_molecule_database(path)"
   ]
  },
  {
   "cell_type": "code",
   "execution_count": 4,
   "metadata": {},
   "outputs": [],
   "source": [
    "# Parses GNPS_json to GNPS_df:\n",
    "GNPS_json = '/Users/dis/PycharmProjects/word2vec/ALL_GNPS.json'\n",
    "GNPS_df = parse_GNPS_json(GNPS_json)"
   ]
  },
  {
   "cell_type": "code",
   "execution_count": 5,
   "metadata": {},
   "outputs": [
    {
     "data": {
      "text/plain": [
       "MONA                                               30784\n",
       "MASSBANK                                            8729\n",
       "GNPS-NIH-NATURALPRODUCTSLIBRARY_ROUND2_POSITIVE     5725\n",
       "GNPS-LIBRARY                                        2662\n",
       "GNPS-NIH-SMALLMOLECULEPHARMACOLOGICALLYACTIVE       1398\n",
       "MASSBANKEU                                          1287\n",
       "GNPS-NIH-NATURALPRODUCTSLIBRARY                     1266\n",
       "GNPS-NIH-NATURALPRODUCTSLIBRARY_ROUND2_NEGATIVE     1041\n",
       "RESPECT                                              981\n",
       "SUMNER                                               795\n",
       "GNPS-MSMLS                                           787\n",
       "BILELIB19                                            747\n",
       "GNPS-COLLECTIONS-PESTICIDES-POSITIVE                 644\n",
       "GNPS-SELLECKCHEM-FDA-PART2                           592\n",
       "GNPS-EMBL-MCF                                        585\n",
       "CASMI                                                562\n",
       "LDB_POSITIVE                                         461\n",
       "GNPS-NIH-CLINICALCOLLECTION1                         341\n",
       "LDB_NEGATIVE                                         339\n",
       "GNPS-NIH-CLINICALCOLLECTION2                         184\n",
       "MIADB                                                172\n",
       "GNPS-PRESTWICKPHYTOCHEM                              143\n",
       "MMV_POSITIVE                                         110\n",
       "GNPS-NIST14-MATCHES                                   73\n",
       "GNPS-COLLECTIONS-PESTICIDES-NEGATIVE                  67\n",
       "GNPS-SELLECKCHEM-FDA-PART1                            62\n",
       "MMV_NEGATIVE                                          47\n",
       "GNPS-COLLECTIONS-MISC                                 44\n",
       "DEREPLICATOR_IDENTIFIED_LIBRARY                        2\n",
       "GNPS-FAULKNERLEGACY                                    1\n",
       "Name: library_membership, dtype: int64"
      ]
     },
     "execution_count": 5,
     "metadata": {},
     "output_type": "execute_result"
    }
   ],
   "source": [
    "# Needs structures to rescue 'PNNL-LIPIDS-POSITIVE'\n",
    "# Drop for now by turning code line 173 off.\n",
    "GNPS_df.library_membership.value_counts()"
   ]
  },
  {
   "cell_type": "code",
   "execution_count": 6,
   "metadata": {},
   "outputs": [],
   "source": [
    "# Identifies subset of GNPS with experimental specrta in ref db:\n",
    "# Result: # 3920 spectra for 508 can_no_stereo_smiles\n",
    "# Issue index 31383 when PNNL is included\n",
    "GNPS_hits_df = search_GNPS_targets(ref_db, GNPS_df)"
   ]
  },
  {
   "cell_type": "code",
   "execution_count": 7,
   "metadata": {},
   "outputs": [
    {
     "data": {
      "text/plain": [
       "MONA                                               1553\n",
       "MASSBANK                                            794\n",
       "GNPS-MSMLS                                          434\n",
       "RESPECT                                             303\n",
       "GNPS-EMBL-MCF                                       259\n",
       "BILELIB19                                           191\n",
       "GNPS-LIBRARY                                        111\n",
       "SUMNER                                               95\n",
       "GNPS-NIH-SMALLMOLECULEPHARMACOLOGICALLYACTIVE        41\n",
       "GNPS-NIH-NATURALPRODUCTSLIBRARY_ROUND2_POSITIVE      25\n",
       "GNPS-NIST14-MATCHES                                  19\n",
       "GNPS-COLLECTIONS-MISC                                18\n",
       "MASSBANKEU                                           18\n",
       "CASMI                                                14\n",
       "GNPS-NIH-CLINICALCOLLECTION1                         10\n",
       "GNPS-SELLECKCHEM-FDA-PART2                           10\n",
       "LDB_NEGATIVE                                          7\n",
       "GNPS-NIH-NATURALPRODUCTSLIBRARY                       6\n",
       "GNPS-NIH-NATURALPRODUCTSLIBRARY_ROUND2_NEGATIVE       6\n",
       "LDB_POSITIVE                                          5\n",
       "GNPS-PRESTWICKPHYTOCHEM                               1\n",
       "Name: library_membership, dtype: int64"
      ]
     },
     "execution_count": 7,
     "metadata": {},
     "output_type": "execute_result"
    }
   ],
   "source": [
    "GNPS_hits_df.library_membership.value_counts()"
   ]
  },
  {
   "cell_type": "code",
   "execution_count": 8,
   "metadata": {},
   "outputs": [
    {
     "data": {
      "text/plain": [
       "M+H        1982\n",
       "M-H         923\n",
       "M+Na        464\n",
       "M+K         219\n",
       "M+NH4+      176\n",
       "M-H2O+H     135\n",
       "M+NH4        13\n",
       "M+            6\n",
       "M-H2O-H       1\n",
       "M+Cl          1\n",
       "Name: Adduct, dtype: int64"
      ]
     },
     "execution_count": 8,
     "metadata": {},
     "output_type": "execute_result"
    }
   ],
   "source": [
    "GNPS_hits_df.Adduct.value_counts()"
   ]
  },
  {
   "cell_type": "code",
   "execution_count": 9,
   "metadata": {},
   "outputs": [],
   "source": [
    "# Identifies subset of Mona with experimental specrta in ref db, runs in a few hours\n",
    "# Result: # 7646 spectra for 648 inchi matches\n",
    "# Mona_hits_df = search_MONA(ref_db)\n",
    "\n",
    "# Reload existing:\n",
    "Mona_hits_df = pd.read_pickle('mona_2020_Apr_15.pickle')\n",
    "\n",
    "# Filters Mona_hits_df for high-res instruments, good adducts, and <20 ppm error.\n",
    "# Result: # 3437 spectra for 535 inchi matches\n",
    "Mona_hits_df = parse_MONA_out(Mona_hits_df)"
   ]
  },
  {
   "cell_type": "code",
   "execution_count": 10,
   "metadata": {},
   "outputs": [
    {
     "data": {
      "text/plain": [
       "M+H        2805\n",
       "M+Na        254\n",
       "M+K         153\n",
       "M+NH4+      142\n",
       "M-H2O+H      56\n",
       "M+           27\n",
       "Name: adduct, dtype: int64"
      ]
     },
     "execution_count": 10,
     "metadata": {},
     "output_type": "execute_result"
    }
   ],
   "source": [
    "Mona_hits_df.adduct.value_counts()"
   ]
  },
  {
   "cell_type": "code",
   "execution_count": 11,
   "metadata": {},
   "outputs": [
    {
     "data": {
      "text/plain": [
       "MassBank                                   1197\n",
       "Vaniya/Fiehn Natural Products Library       836\n",
       "unknown                                     471\n",
       "Fiehn HILIC Library                         379\n",
       "GNPS                                        296\n",
       "ReSpect                                     199\n",
       "RIKEN PlaSMA Authentic Standard Library      59\n",
       "Name: source, dtype: int64"
      ]
     },
     "execution_count": 11,
     "metadata": {},
     "output_type": "execute_result"
    }
   ],
   "source": [
    "Mona_hits_df.source.value_counts()"
   ]
  },
  {
   "cell_type": "markdown",
   "metadata": {},
   "source": [
    "# Joinging HMDB predicted\n",
    "3. Use to filter reference db on id\n",
    "4. Repeat for theoretical of no expirimental\n",
    "\n",
    "4. Copy files .txt to correct folder based on name\n",
    "\n",
    "n. flag if hit found somehow? do not in of join..."
   ]
  },
  {
   "cell_type": "code",
   "execution_count": 17,
   "metadata": {},
   "outputs": [],
   "source": [
    "rerun = False\n",
    "\n",
    "#Import experimental and computational HMDB spectra, slow.\n",
    "if rerun == True:\n",
    "    hmdb_pos_exptl_df = parse_hmdb('/Users/dis/Desktop/hmdb_LCMS/hmdb_experimental_msms_spectra',\n",
    "                               theo_flag=False)\n",
    "    hmdb_pos_theo_df = parse_hmdb('/Users/dis/Desktop/hmdb_LCMS/hmdb_predicted_msms_spectra', \n",
    "                              theo_flag=True)\n",
    "    \n",
    "    hmdb_pos_exptl_df.to_pickle('hmdb_pos_exptl_df.pickle')\n",
    "    hmdb_pos_theo_df.to_pickle('hmdb_pos_theo_df.pickle')\n",
    "\n",
    "# Reload without reprocessing\n",
    "else:\n",
    "    hmdb_pos_exptl_df = pd.read_pickle('hmdb_pos_exptl_df.pickle')\n",
    "    hmdb_pos_theo_df = pd.read_pickle('hmdb_pos_theo_df.pickle')"
   ]
  },
  {
   "cell_type": "code",
   "execution_count": 22,
   "metadata": {},
   "outputs": [],
   "source": [
    "# Cleans up ref db for only entries with experimental MS/MS spectra\n",
    "# Without theoretical specta: 855 id's, with: 11440\n",
    "df = preparser_Sirius(ref_db,\n",
    "                      GNPS_hits_df,\n",
    "                      Mona_hits_df,\n",
    "                      hmdb_pos_exptl_df,\n",
    "                      hmdb_pos_theo_df)"
   ]
  },
  {
   "cell_type": "markdown",
   "metadata": {},
   "source": [
    "## To do Tuesday:\n",
    "## 1. Call Theo 8 am\n",
    "## 2. Write function and test with small subset lines 502-515."
   ]
  },
  {
   "cell_type": "code",
   "execution_count": null,
   "metadata": {},
   "outputs": [],
   "source": [
    "# Runs main Sirius loop\n",
    "sirius_output_df = loop_Sirius(df, \n",
    "                               Mona_hits_df, \n",
    "                               GNPS_hits_df,\n",
    "                               hmdb_pos_exptl_df,\n",
    "                               hmdb_pos_theo_df)"
   ]
  },
  {
   "cell_type": "code",
   "execution_count": null,
   "metadata": {},
   "outputs": [],
   "source": [
    "## Test above fxn"
   ]
  },
  {
   "cell_type": "code",
   "execution_count": null,
   "metadata": {},
   "outputs": [],
   "source": [
    "# Reload without rerunning\n",
    "# sirius_output_df.to_pickle('sirius_output_df.pickle')\n",
    "sirius_output_df = pd.read_pickle('sirius_output_df.pickle')"
   ]
  },
  {
   "cell_type": "code",
   "execution_count": null,
   "metadata": {},
   "outputs": [],
   "source": [
    "# Clean-up and merge output with MS2 spectra\n",
    "clean_output_df = results_clean_up(df, sirius_output_df)\n",
    "\n",
    "# Clean-up database for METASPACE\n",
    "METASPACE_db = output_METASPACE(clean_output_df, out_name)\n",
    "\n",
    "# Export entire db\n",
    "METASPACE_db.iloc[:,0:4].to_csv('whole_body_msms_test_v2.csv', sep='\\t')"
   ]
  },
  {
   "cell_type": "code",
   "execution_count": null,
   "metadata": {},
   "outputs": [],
   "source": [
    "## Make loop filtering all 10x datasets below.\n",
    "## Run: 1) entire DB, 2) consensus 10x, 3) each\n",
    "\n",
    "# Filter DB for observed MS1 and export:\n",
    "f2_ids = list(pd.read_csv('f2.txt').moleculeIds)\n",
    "METASPACE_db = METASPACE_db[METASPACE_db.old_id.isin(f2_ids)]\n",
    "METASPACE_db.iloc[:,0:4].to_csv('whole_body_msms_test_v3.csv', sep='\\t')"
   ]
  },
  {
   "cell_type": "code",
   "execution_count": null,
   "metadata": {},
   "outputs": [],
   "source": [
    "## Report this to file\n",
    "# Before filtering 10019 fragments for 776 parents\n",
    "# After fitering 1228 fragments for 111 parents "
   ]
  },
  {
   "cell_type": "code",
   "execution_count": null,
   "metadata": {},
   "outputs": [],
   "source": []
  },
  {
   "cell_type": "code",
   "execution_count": null,
   "metadata": {},
   "outputs": [],
   "source": [
    "## Make a loop here too, but later...\n",
    "# Load search results from METASPACE run off line after database\n",
    "ms_out = pd.read_csv('metaspace_annotations.csv', header=2)\n",
    "ms_out = extract_results_METASPACE(ms_out)\n",
    "ms_out.to_pickle('ms_out_v3_test01.pickle')"
   ]
  },
  {
   "cell_type": "markdown",
   "metadata": {},
   "source": [
    "Local plotting here:\n",
    "http://localhost:8888/notebooks/PycharmProjects/word2vec/IMS_plotter_v2.ipynb"
   ]
  },
  {
   "cell_type": "markdown",
   "metadata": {},
   "source": [
    "# Friday:\n",
    "1. Key questions:\n",
    "    1.1. How often it works? \n",
    "    1.2. How much overlap in m/z is between ions? \n",
    "    1.3. How much overlap in space?\n",
    "2. API access ion images and put in folders as pairs\n",
    "3. Add libraries HMDB, all Mona dl, PNNL in GNPS\n",
    "\n",
    "Next Jupyter notebook extract data from METASPACE:\n",
    "http://localhost:8888/notebooks/PycharmProjects/word2vec/export_ion_mages.ipynb\n",
    "Next Jupyter notebook extract data locally:\n",
    "http://localhost:8888/notebooks/PycharmProjects/word2vec/IMS_plotter_v2.ipynb"
   ]
  },
  {
   "cell_type": "code",
   "execution_count": null,
   "metadata": {},
   "outputs": [],
   "source": []
  }
 ],
 "metadata": {
  "kernelspec": {
   "display_name": "Python 3",
   "language": "python",
   "name": "python3"
  },
  "language_info": {
   "codemirror_mode": {
    "name": "ipython",
    "version": 3
   },
   "file_extension": ".py",
   "mimetype": "text/x-python",
   "name": "python",
   "nbconvert_exporter": "python",
   "pygments_lexer": "ipython3",
   "version": "3.6.8"
  }
 },
 "nbformat": 4,
 "nbformat_minor": 2
}
