{
 "cells": [
  {
   "cell_type": "code",
   "execution_count": 13,
   "metadata": {},
   "outputs": [
    {
     "data": {
      "text/plain": [
       "'%.4f'"
      ]
     },
     "execution_count": 13,
     "metadata": {},
     "output_type": "execute_result"
    }
   ],
   "source": [
    "import pandas as pd\n",
    "from molmass import Formula\n",
    "\n",
    "# Displayes mass floates rounded to 4 decimal points\n",
    "%precision %.4f"
   ]
  },
  {
   "cell_type": "code",
   "execution_count": 23,
   "metadata": {},
   "outputs": [],
   "source": [
    "H_p = 1.0073\n",
    "Na_p = 22.9898\n",
    "K_p = 38.9631\n",
    "\n",
    "H = 1.0078\n",
    "e = 0.0005\n",
    "C = 12.0000\n",
    "N = 14.0031\n",
    "O = 15.9949"
   ]
  },
  {
   "cell_type": "code",
   "execution_count": 406,
   "metadata": {},
   "outputs": [
    {
     "data": {
      "text/plain": [
       "159.0657"
      ]
     },
     "execution_count": 406,
     "metadata": {},
     "output_type": "execute_result"
    }
   ],
   "source": [
    "x = 'C7H11O4'\n",
    "y = Formula(x).isotope.mass\n",
    "y"
   ]
  },
  {
   "cell_type": "code",
   "execution_count": 407,
   "metadata": {},
   "outputs": [
    {
     "data": {
      "text/plain": [
       "159.0652"
      ]
     },
     "execution_count": 407,
     "metadata": {},
     "output_type": "execute_result"
    }
   ],
   "source": [
    "y-e"
   ]
  },
  {
   "cell_type": "code",
   "execution_count": 394,
   "metadata": {},
   "outputs": [
    {
     "data": {
      "text/plain": [
       "139.0390"
      ]
     },
     "execution_count": 394,
     "metadata": {},
     "output_type": "execute_result"
    }
   ],
   "source": [
    "y+H_p\n"
   ]
  },
  {
   "cell_type": "code",
   "execution_count": 399,
   "metadata": {},
   "outputs": [
    {
     "data": {
      "text/plain": [
       "347.0954"
      ]
     },
     "execution_count": 399,
     "metadata": {},
     "output_type": "execute_result"
    }
   ],
   "source": [
    "y+Na_p"
   ]
  },
  {
   "cell_type": "code",
   "execution_count": 28,
   "metadata": {},
   "outputs": [
    {
     "data": {
      "text/plain": [
       "-0.0236"
      ]
     },
     "execution_count": 28,
     "metadata": {},
     "output_type": "execute_result"
    }
   ],
   "source": [
    "z-y-N-H+e"
   ]
  },
  {
   "cell_type": "code",
   "execution_count": 385,
   "metadata": {},
   "outputs": [
    {
     "data": {
      "text/plain": [
       "[42.0339,\n",
       " 43.0179,\n",
       " 43.0543,\n",
       " 45.0335,\n",
       " 54.0465,\n",
       " 57.0335,\n",
       " 59.0492,\n",
       " 59.0604,\n",
       " 60.0444,\n",
       " 60.0556,\n",
       " 60.0808,\n",
       " 69.0448,\n",
       " 70.0419,\n",
       " 70.0652,\n",
       " 72.0808,\n",
       " 81.0322,\n",
       " 85.0284,\n",
       " 85.0285,\n",
       " 88.0394,\n",
       " 95.0604,\n",
       " 96.0557,\n",
       " 97.1012,\n",
       " 98.0601,\n",
       " 100.0757,\n",
       " 102.0914,\n",
       " 103.0390,\n",
       " 104.1070,\n",
       " 105.0335,\n",
       " 109.1012,\n",
       " 110.0349,\n",
       " 110.0349,\n",
       " 110.0713,\n",
       " 112.0506,\n",
       " 112.1126,\n",
       " 114.0919,\n",
       " 115.0543,\n",
       " 116.0706,\n",
       " 116.0707,\n",
       " 117.0573,\n",
       " 117.1023,\n",
       " 119.0492,\n",
       " 120.0426,\n",
       " 120.0808,\n",
       " 121.0648,\n",
       " 123.0441,\n",
       " 123.0666,\n",
       " 124.0506,\n",
       " 124.9999,\n",
       " 126.0662,\n",
       " 130.0983,\n",
       " 134.0271,\n",
       " 135.0302,\n",
       " 135.1169,\n",
       " 136.0618,\n",
       " 136.0757,\n",
       " 136.0757,\n",
       " 137.0458,\n",
       " 145.0496,\n",
       " 146.0601,\n",
       " 147.0441,\n",
       " 152.0567,\n",
       " 152.0567,\n",
       " 156.0768,\n",
       " 158.1163,\n",
       " 162.0914,\n",
       " 163.1482,\n",
       " 165.0546,\n",
       " 165.0547,\n",
       " 166.0863,\n",
       " 170.0601,\n",
       " 171.1492,\n",
       " 181.1084,\n",
       " 184.0733,\n",
       " 185.0426,\n",
       " 195.0652,\n",
       " 203.0532,\n",
       " 203.0532,\n",
       " 210.0874,\n",
       " 231.0434,\n",
       " 232.0829,\n",
       " 259.2057,\n",
       " 275.0743,\n",
       " 347.0954,\n",
       " 355.0741,\n",
       " 409.0846,\n",
       " 410.0262,\n",
       " 484.1167,\n",
       " 538.1272,\n",
       " 595.1487]"
      ]
     },
     "execution_count": 385,
     "metadata": {},
     "output_type": "execute_result"
    }
   ],
   "source": [
    "assigned = [259.2057, 275.0743, 135.1169, 163.1482, 203.0532, 136.0757, 165.0546, 43.0543, 57.0335, 70.0419, 109.1012, 120.0808, 162.0914, 114.0919, 171.1492, 117.0573, 54.0465, 97.1012, 126.0662, 60.0444, 88.0394, 121.0648, 115.0543, 146.0601, 170.0601, 85.0285, 81.0322, 232.0829, 59.0604, 112.0506, 152.0567, 72.0808, 100.0757, 117.1023, 98.0601, 116.0706, 45.0335, 59.0492, 120.0426, 42.0339, 69.0448, 96.0557, 123.0666, 124.0506, 105.0335, 166.0863, 195.0652, 145.0496, 347.0954, 104.1070, 124.9999, 184.0733, 110.0349, 135.0302, 134.0271, 112.1126, 185.0426, 203.0532, 410.0262, 152.0567, 136.0618, 137.0458, 110.0349, 102.0914, 43.0179, 60.0808, 85.0284, 103.0390, 231.0434, 355.0741, 409.0846, 484.1167, 538.1272, 595.1487, 156.0768, 181.1084, 210.0874, 119.0492, 123.0441, 136.0757, 147.0441, 165.0547, 95.0604, 110.0713, 158.1163, 130.0983, 116.0707, 70.0652, 60.0556]\n",
    "assigned.sort()\n",
    "assigned"
   ]
  },
  {
   "cell_type": "code",
   "execution_count": null,
   "metadata": {},
   "outputs": [],
   "source": []
  }
 ],
 "metadata": {
  "kernelspec": {
   "display_name": "Python 3",
   "language": "python",
   "name": "python3"
  },
  "language_info": {
   "codemirror_mode": {
    "name": "ipython",
    "version": 3
   },
   "file_extension": ".py",
   "mimetype": "text/x-python",
   "name": "python",
   "nbconvert_exporter": "python",
   "pygments_lexer": "ipython3",
   "version": "3.6.8"
  }
 },
 "nbformat": 4,
 "nbformat_minor": 2
}
