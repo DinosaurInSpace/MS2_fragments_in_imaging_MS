{
 "cells": [
  {
   "cell_type": "code",
   "execution_count": 1,
   "metadata": {},
   "outputs": [],
   "source": [
    "# Will reload modeules after this when they change!\n",
    "%load_ext autoreload\n",
    "%autoreload 2"
   ]
  },
  {
   "cell_type": "code",
   "execution_count": 202,
   "metadata": {},
   "outputs": [],
   "source": [
    "import pandas as pd\n",
    "import numpy as np\n",
    "import json\n",
    "import os\n",
    "from string import digits\n",
    "\n",
    "# RDKit\n",
    "import rdkit\n",
    "from rdkit import Chem\n",
    "from rdkit.Chem import AllChem\n",
    "from rdkit.Chem import Draw\n",
    "\n",
    "from molmass import Formula\n",
    "\n",
    "from main_functions import *"
   ]
  },
  {
   "cell_type": "markdown",
   "metadata": {},
   "source": [
    "# Molecule database merge with experimental MS/MS data for METASPACE.\n",
    "\n",
    "This script merges a molecule databae with experimental MS/MS data.  These data can then be submitted to METASPACE to search for nuetral loss and in-source fragments within datasets.\n",
    "\n",
    "See: /Users/dis/PycharmProjects/word2vec/main_functions.py"
   ]
  },
  {
   "cell_type": "code",
   "execution_count": 3,
   "metadata": {},
   "outputs": [],
   "source": [
    "# Load reference database by path:\n",
    "path = '/Users/dis/PycharmProjects/core_metabolome/core_metabolome_v3.pickle'\n",
    "ref_db = load_molecule_database(path)"
   ]
  },
  {
   "cell_type": "code",
   "execution_count": 4,
   "metadata": {},
   "outputs": [],
   "source": [
    "# Parses GNPS_json to GNPS_df:\n",
    "GNPS_json = '/Users/dis/PycharmProjects/word2vec/ALL_GNPS.json'\n",
    "GNPS_df = parse_GNPS_json(GNPS_json)"
   ]
  },
  {
   "cell_type": "code",
   "execution_count": 5,
   "metadata": {},
   "outputs": [],
   "source": [
    "# Identifies subset of GNPS with experimental specrta in ref db:\n",
    "# Result: # 3920 spectra for 508 can_no_stereo_smiles\n",
    "GNPS_hits_df = search_GNPS_targets(ref_db, GNPS_df)"
   ]
  },
  {
   "cell_type": "code",
   "execution_count": 6,
   "metadata": {},
   "outputs": [
    {
     "data": {
      "text/plain": [
       "M+H        1982\n",
       "M-H         923\n",
       "M+Na        464\n",
       "M+K         219\n",
       "M+NH4+      176\n",
       "M-H2O+H     135\n",
       "M+NH4        13\n",
       "M+            6\n",
       "M+Cl          1\n",
       "M-H2O-H       1\n",
       "Name: Adduct, dtype: int64"
      ]
     },
     "execution_count": 6,
     "metadata": {},
     "output_type": "execute_result"
    }
   ],
   "source": [
    "GNPS_hits_df.Adduct.value_counts()"
   ]
  },
  {
   "cell_type": "code",
   "execution_count": 7,
   "metadata": {},
   "outputs": [],
   "source": [
    "# Identifies subset of Mona with experimental specrta in ref db, runs in a few hours\n",
    "# Result: # 7646 spectra for 648 inchi matches\n",
    "# Mona_hits_df = search_MONA(ref_db)\n",
    "\n",
    "# Reload existing:\n",
    "Mona_hits_df = pd.read_pickle('mona_2020_Apr_15.pickle')\n",
    "\n",
    "# Filters Mona_hits_df for high-res instruments, good adducts, and <20 ppm error.\n",
    "# Result: # 3437 spectra for 535 inchi matches\n",
    "Mona_hits_df = parse_MONA_out(Mona_hits_df)"
   ]
  },
  {
   "cell_type": "code",
   "execution_count": 8,
   "metadata": {},
   "outputs": [
    {
     "data": {
      "text/plain": [
       "M+H        2805\n",
       "M+Na        254\n",
       "M+K         153\n",
       "M+NH4+      142\n",
       "M-H2O+H      56\n",
       "M+           27\n",
       "Name: adduct, dtype: int64"
      ]
     },
     "execution_count": 8,
     "metadata": {},
     "output_type": "execute_result"
    }
   ],
   "source": [
    "Mona_hits_df.adduct.value_counts()"
   ]
  },
  {
   "cell_type": "code",
   "execution_count": 9,
   "metadata": {},
   "outputs": [
    {
     "data": {
      "text/plain": [
       "MassBank                                   1197\n",
       "Vaniya/Fiehn Natural Products Library       836\n",
       "unknown                                     471\n",
       "Fiehn HILIC Library                         379\n",
       "GNPS                                        296\n",
       "ReSpect                                     199\n",
       "RIKEN PlaSMA Authentic Standard Library      59\n",
       "Name: source, dtype: int64"
      ]
     },
     "execution_count": 9,
     "metadata": {},
     "output_type": "execute_result"
    }
   ],
   "source": [
    "Mona_hits_df.source.value_counts()"
   ]
  },
  {
   "cell_type": "code",
   "execution_count": 22,
   "metadata": {},
   "outputs": [],
   "source": [
    "# Cleans up ref db for only entries with experimental MS/MS spectra\n",
    "df = preparser_Sirius(ref_db, GNPS_hits_df, Mona_hits_df)"
   ]
  },
  {
   "cell_type": "code",
   "execution_count": null,
   "metadata": {},
   "outputs": [],
   "source": [
    "# Runs main Sirius loop\n",
    "sirius_output_df = loop_Sirius(df, Mona_hits_df, GNPS_hits_df)"
   ]
  },
  {
   "cell_type": "code",
   "execution_count": 24,
   "metadata": {},
   "outputs": [],
   "source": [
    "# Reload without rerunning\n",
    "# sirius_output_df.to_pickle('sirius_output_df.pickle')\n",
    "sirius_output_df = pd.read_pickle('sirius_output_df.pickle')"
   ]
  },
  {
   "cell_type": "code",
   "execution_count": 33,
   "metadata": {},
   "outputs": [],
   "source": [
    "# Clean-up and merge output with MS2 spectra\n",
    "clean_output_df = results_clean_up(df, sirius_output_df)"
   ]
  },
  {
   "cell_type": "code",
   "execution_count": null,
   "metadata": {},
   "outputs": [],
   "source": [
    "# Clean-up database for METASPACE\n",
    "METASPACE_db = output_METASPACE(clean_output_df, out_name)"
   ]
  },
  {
   "cell_type": "code",
   "execution_count": 464,
   "metadata": {},
   "outputs": [],
   "source": [
    "# Export entire db\n",
    "METASPACE_db.iloc[:,0:4].to_csv('whole_body_msms_test_v2.csv', sep='\\t')"
   ]
  },
  {
   "cell_type": "code",
   "execution_count": null,
   "metadata": {},
   "outputs": [],
   "source": [
    "# Filter for observed MS1 and export:\n",
    "f2_ids = list(pd.read_csv('f2.txt').moleculeIds)\n",
    "METASPACE_db = METASPACE_db[METASPACE_db.old_id.isin(f2_ids)]\n",
    "METASPACE_db.iloc[:,0:4].to_csv('whole_body_msms_test_v3.csv', sep='\\t')"
   ]
  },
  {
   "cell_type": "code",
   "execution_count": 491,
   "metadata": {},
   "outputs": [],
   "source": [
    "# Before filtering 10019 fragments for 776 parents\n",
    "# After fitering 1228 fragments for 111 parents "
   ]
  },
  {
   "cell_type": "markdown",
   "metadata": {},
   "source": [
    "# Friday:\n",
    "1. Clean-up code \n",
    "2. Run Vitally/Lachlan\n",
    "3. API access ion images and put in folders as pairs"
   ]
  }
 ],
 "metadata": {
  "kernelspec": {
   "display_name": "Python 3",
   "language": "python",
   "name": "python3"
  },
  "language_info": {
   "codemirror_mode": {
    "name": "ipython",
    "version": 3
   },
   "file_extension": ".py",
   "mimetype": "text/x-python",
   "name": "python",
   "nbconvert_exporter": "python",
   "pygments_lexer": "ipython3",
   "version": "3.6.8"
  }
 },
 "nbformat": 4,
 "nbformat_minor": 2
}
