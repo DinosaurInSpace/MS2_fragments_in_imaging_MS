{
 "cells": [
  {
   "cell_type": "code",
   "execution_count": 1,
   "metadata": {},
   "outputs": [],
   "source": [
    "# Will reload modeules after this when they change!\n",
    "%load_ext autoreload\n",
    "%autoreload 2"
   ]
  },
  {
   "cell_type": "code",
   "execution_count": 202,
   "metadata": {},
   "outputs": [],
   "source": [
    "import pandas as pd\n",
    "import numpy as np\n",
    "import json\n",
    "import os\n",
    "from string import digits\n",
    "\n",
    "# RDKit\n",
    "import rdkit\n",
    "from rdkit import Chem\n",
    "from rdkit.Chem import AllChem\n",
    "from rdkit.Chem import Draw\n",
    "\n",
    "from molmass import Formula\n",
    "\n",
    "from main_functions import *"
   ]
  },
  {
   "cell_type": "markdown",
   "metadata": {},
   "source": [
    "# Molecule database merge with experimental MS/MS data for METASPACE.\n",
    "\n",
    "This script merges a molecule databae with experimental MS/MS data.  These data can then be submitted to METASPACE to search for nuetral loss and in-source fragments within datasets.\n",
    "\n",
    "See: /Users/dis/PycharmProjects/word2vec/main_functions.py"
   ]
  },
  {
   "cell_type": "code",
   "execution_count": 3,
   "metadata": {},
   "outputs": [],
   "source": [
    "# Load reference database by path:\n",
    "path = '/Users/dis/PycharmProjects/core_metabolome/core_metabolome_v3.pickle'\n",
    "ref_db = load_molecule_database(path)"
   ]
  },
  {
   "cell_type": "code",
   "execution_count": 4,
   "metadata": {},
   "outputs": [],
   "source": [
    "# Parses GNPS_json to GNPS_df:\n",
    "GNPS_json = '/Users/dis/PycharmProjects/word2vec/ALL_GNPS.json'\n",
    "GNPS_df = parse_GNPS_json(GNPS_json)"
   ]
  },
  {
   "cell_type": "code",
   "execution_count": null,
   "metadata": {},
   "outputs": [],
   "source": []
  },
  {
   "cell_type": "code",
   "execution_count": 494,
   "metadata": {},
   "outputs": [],
   "source": [
    "# GNPS lipid rescue (not complete)\n",
    "GNPS_json = '/Users/dis/PycharmProjects/word2vec/ALL_GNPS.json'\n",
    "with open(GNPS_json, \"r\") as read_file:\n",
    "    GNPS_data = json.load(read_file)\n",
    "    GNPS_df = pd.DataFrame(GNPS_data)"
   ]
  },
  {
   "cell_type": "code",
   "execution_count": null,
   "metadata": {},
   "outputs": [],
   "source": []
  },
  {
   "cell_type": "code",
   "execution_count": null,
   "metadata": {},
   "outputs": [],
   "source": [
    "good_libs = ['GNPS-LIBRARY', 'GNPS-EMBL-MCF',\n",
    "             'MMV_POSITIVE', 'MMV_NEGATIVE', \n",
    "             'LDB_POSITIVE', 'LDB_NEGATIVE',\n",
    "             'GNPS-NIST14-MATCHES', 'GNPS-COLLECTIONS-MISC',\n",
    "             'GNPS-MSMLS', 'BILELIB19', \n",
    "             'PNNL-LIPIDS-POSITIVE', 'PNNL-LIPIDS-NEGATIVE', \n",
    "             'MIADB', 'MASSBANK', 'MASSBANKEU', 'MONA', \n",
    "             'RESPECT', 'HMDB', 'CASMI', 'SUMNER']"
   ]
  },
  {
   "cell_type": "code",
   "execution_count": 498,
   "metadata": {},
   "outputs": [],
   "source": [
    "# Identifies subset of GNPS with experimental specrta in ref db:\n",
    "# Result: # 3920 spectra for 508 can_no_stereo_smiles\n",
    "GNPS_hits_df = search_GNPS_targets(ref_db, GNPS_df)"
   ]
  },
  {
   "cell_type": "code",
   "execution_count": 502,
   "metadata": {},
   "outputs": [
    {
     "data": {
      "text/plain": [
       "MASSBANK                                           1640\n",
       "RESPECT                                            1369\n",
       "HMDB                                               1269\n",
       "GNPS-MSMLS                                          469\n",
       "BILELIB19                                           441\n",
       "GNPS-EMBL-MCF                                       258\n",
       "GNPS-LIBRARY                                        115\n",
       "SUMNER                                               95\n",
       "GNPS-NIH-SMALLMOLECULEPHARMACOLOGICALLYACTIVE        41\n",
       "GNPS-NIH-NATURALPRODUCTSLIBRARY_ROUND2_POSITIVE      25\n",
       "MASSBANKEU                                           18\n",
       "GNPS-NIST14-MATCHES                                  15\n",
       "CASMI                                                14\n",
       "LDB_NEGATIVE                                         11\n",
       "GNPS-NIH-CLINICALCOLLECTION1                         10\n",
       "GNPS-SELLECKCHEM-FDA-PART2                           10\n",
       "GNPS-NIH-NATURALPRODUCTSLIBRARY_ROUND2_NEGATIVE       9\n",
       "LDB_POSITIVE                                          7\n",
       "GNPS-NIH-NATURALPRODUCTSLIBRARY                       6\n",
       "GNPS-COLLECTIONS-MISC                                 3\n",
       "GNPS-PRESTWICKPHYTOCHEM                               1\n",
       "MONA                                                  1\n",
       "Name: library_membership, dtype: int64"
      ]
     },
     "execution_count": 502,
     "metadata": {},
     "output_type": "execute_result"
    }
   ],
   "source": [
    "GNPS_hits_df.library_membership.value_counts()"
   ]
  },
  {
   "cell_type": "code",
   "execution_count": 6,
   "metadata": {},
   "outputs": [
    {
     "data": {
      "text/plain": [
       "M+H        1982\n",
       "M-H         923\n",
       "M+Na        464\n",
       "M+K         219\n",
       "M+NH4+      176\n",
       "M-H2O+H     135\n",
       "M+NH4        13\n",
       "M+            6\n",
       "M+Cl          1\n",
       "M-H2O-H       1\n",
       "Name: Adduct, dtype: int64"
      ]
     },
     "execution_count": 6,
     "metadata": {},
     "output_type": "execute_result"
    }
   ],
   "source": [
    "GNPS_hits_df.Adduct.value_counts()"
   ]
  },
  {
   "cell_type": "code",
   "execution_count": 7,
   "metadata": {},
   "outputs": [],
   "source": [
    "# Identifies subset of Mona with experimental specrta in ref db, runs in a few hours\n",
    "# Result: # 7646 spectra for 648 inchi matches\n",
    "# Mona_hits_df = search_MONA(ref_db)\n",
    "\n",
    "# Reload existing:\n",
    "Mona_hits_df = pd.read_pickle('mona_2020_Apr_15.pickle')\n",
    "\n",
    "# Filters Mona_hits_df for high-res instruments, good adducts, and <20 ppm error.\n",
    "# Result: # 3437 spectra for 535 inchi matches\n",
    "Mona_hits_df = parse_MONA_out(Mona_hits_df)"
   ]
  },
  {
   "cell_type": "code",
   "execution_count": 8,
   "metadata": {},
   "outputs": [
    {
     "data": {
      "text/plain": [
       "M+H        2805\n",
       "M+Na        254\n",
       "M+K         153\n",
       "M+NH4+      142\n",
       "M-H2O+H      56\n",
       "M+           27\n",
       "Name: adduct, dtype: int64"
      ]
     },
     "execution_count": 8,
     "metadata": {},
     "output_type": "execute_result"
    }
   ],
   "source": [
    "Mona_hits_df.adduct.value_counts()"
   ]
  },
  {
   "cell_type": "code",
   "execution_count": 9,
   "metadata": {},
   "outputs": [
    {
     "data": {
      "text/plain": [
       "MassBank                                   1197\n",
       "Vaniya/Fiehn Natural Products Library       836\n",
       "unknown                                     471\n",
       "Fiehn HILIC Library                         379\n",
       "GNPS                                        296\n",
       "ReSpect                                     199\n",
       "RIKEN PlaSMA Authentic Standard Library      59\n",
       "Name: source, dtype: int64"
      ]
     },
     "execution_count": 9,
     "metadata": {},
     "output_type": "execute_result"
    }
   ],
   "source": [
    "Mona_hits_df.source.value_counts()"
   ]
  },
  {
   "cell_type": "code",
   "execution_count": 22,
   "metadata": {},
   "outputs": [],
   "source": [
    "# Cleans up ref db for only entries with experimental MS/MS spectra\n",
    "df = preparser_Sirius(ref_db, GNPS_hits_df, Mona_hits_df)"
   ]
  },
  {
   "cell_type": "code",
   "execution_count": null,
   "metadata": {},
   "outputs": [],
   "source": [
    "# Runs main Sirius loop\n",
    "sirius_output_df = loop_Sirius(df, Mona_hits_df, GNPS_hits_df)"
   ]
  },
  {
   "cell_type": "code",
   "execution_count": 24,
   "metadata": {},
   "outputs": [],
   "source": [
    "# Reload without rerunning\n",
    "# sirius_output_df.to_pickle('sirius_output_df.pickle')\n",
    "sirius_output_df = pd.read_pickle('sirius_output_df.pickle')"
   ]
  },
  {
   "cell_type": "code",
   "execution_count": 33,
   "metadata": {},
   "outputs": [],
   "source": [
    "# Clean-up and merge output with MS2 spectra\n",
    "clean_output_df = results_clean_up(df, sirius_output_df)"
   ]
  },
  {
   "cell_type": "code",
   "execution_count": null,
   "metadata": {},
   "outputs": [],
   "source": [
    "# Clean-up database for METASPACE\n",
    "METASPACE_db = output_METASPACE(clean_output_df, out_name)"
   ]
  },
  {
   "cell_type": "code",
   "execution_count": 464,
   "metadata": {},
   "outputs": [],
   "source": [
    "# Export entire db\n",
    "METASPACE_db.iloc[:,0:4].to_csv('whole_body_msms_test_v2.csv', sep='\\t')"
   ]
  },
  {
   "cell_type": "code",
   "execution_count": null,
   "metadata": {},
   "outputs": [],
   "source": [
    "# Filter for observed MS1 and export:\n",
    "f2_ids = list(pd.read_csv('f2.txt').moleculeIds)\n",
    "METASPACE_db = METASPACE_db[METASPACE_db.old_id.isin(f2_ids)]\n",
    "METASPACE_db.iloc[:,0:4].to_csv('whole_body_msms_test_v3.csv', sep='\\t')"
   ]
  },
  {
   "cell_type": "code",
   "execution_count": 491,
   "metadata": {},
   "outputs": [],
   "source": [
    "# Before filtering 10019 fragments for 776 parents\n",
    "# After fitering 1228 fragments for 111 parents "
   ]
  },
  {
   "cell_type": "code",
   "execution_count": 527,
   "metadata": {},
   "outputs": [],
   "source": [
    "def split_data_frame_list(df, target_column):\n",
    "    # Accepts a column with multiple types and splits list variables to several rows.\n",
    "\n",
    "    row_accumulator = []\n",
    "\n",
    "    def split_list_to_rows(row):\n",
    "        split_row = row[target_column]\n",
    "\n",
    "        if isinstance(split_row, list):\n",
    "\n",
    "          for s in split_row:\n",
    "              new_row = row.to_dict()\n",
    "              new_row[target_column] = s\n",
    "              row_accumulator.append(new_row)\n",
    "\n",
    "          if split_row == []:\n",
    "              new_row = row.to_dict()\n",
    "              new_row[target_column] = None\n",
    "              row_accumulator.append(new_row)\n",
    "\n",
    "        else:\n",
    "          new_row = row.to_dict()\n",
    "          new_row[target_column] = split_row\n",
    "          row_accumulator.append(new_row)\n",
    "\n",
    "    df.apply(split_list_to_rows, axis=1)\n",
    "    new_df = pd.DataFrame(row_accumulator)\n",
    "\n",
    "    return new_df"
   ]
  },
  {
   "cell_type": "code",
   "execution_count": 577,
   "metadata": {},
   "outputs": [],
   "source": [
    "def a_label(x, a):\n",
    "    # Finds string a in string x\n",
    "    if a in x:\n",
    "        return 1\n",
    "    else:\n",
    "        return 0"
   ]
  },
  {
   "cell_type": "code",
   "execution_count": 626,
   "metadata": {},
   "outputs": [],
   "source": [
    "# Read METASPACE output\n",
    "# Generated at 4/17/2020 12:08:16 PM. For help see https://bit.ly/2HO2uz4\n",
    "# URL: https://metaspace2020.eu/annotations?db=whole_body_MSMS_test_v3&prj=a493c7b8-e27f-11e8-9d75-3bb2859d3748&ds=2017-05-17_19h49m04s&fdr=0.5&sort=-mz&hideopt=1&sections=3&page=7\n",
    "\n",
    "ms_out = pd.read_csv('metaspace_annotations.csv', header=2)\n",
    "ms_out = ms_out[ms_out.adduct == 'M[M]+']\n",
    "ms_out['n_ids_formula'] = ms_out.moleculeIds.apply(lambda x: len(x.split(',')))\n",
    "gc = ['datasetId', 'formula', 'adduct', 'mz', 'fdr',\n",
    "      'moleculeNames']\n",
    "ms_out = ms_out[gc]\n",
    "ms_out['moleculeNames'] = ms_out['moleculeNames'].apply(lambda x: x.split(', '))\n",
    "ms_out = split_data_frame_list(ms_out, 'moleculeNames')\n",
    "ms_out['moleculeNames'] = ms_out['moleculeNames'].apply(lambda x: x.split('_',2))\n",
    "df = pd.DataFrame(ms_out['moleculeNames'].tolist(), columns=['id', 'par_frag', 'name'])\n",
    "ms_out = pd.concat([df, ms_out, ], axis=1)\n",
    "ms_out = ms_out.sort_values(by=['name'])\n",
    "\n",
    "# Label with number of parents and fragments for each id\n",
    "ms_out['parent'] = ms_out['par_frag'].apply(lambda x: a_label(x, 'p'))\n",
    "ms_out['n_frag'] = ms_out['par_frag'].apply(lambda x: a_label(x, 'f'))\n",
    "df = ms_out[['id', 'parent', 'n_frag']]\n",
    "df = df.groupby('id').sum()\n",
    "ms_out = ms_out.merge(df, on='id', how='left')\n",
    "gc = ['id', 'par_frag', 'name', 'datasetId', 'formula',\n",
    "       'adduct', 'mz', 'fdr', 'moleculeNames',\n",
    "       'parent_y', 'n_frag_y']\n",
    "ms_out = ms_out[gc].copy(deep=True)\n",
    "\n",
    "# Label with number of degenerate formulas at each mass\n",
    "df = ms_out[['id', 'formula']]\n",
    "df = df.groupby('formula').nunique()\n",
    "df = df.iloc[:,0:1]\n",
    "ms_out = ms_out.merge(df, on='formula', how='left')"
   ]
  },
  {
   "cell_type": "code",
   "execution_count": 629,
   "metadata": {},
   "outputs": [],
   "source": [
    "ms_out.to_pickle('ms_out_v3_test01.pickle')"
   ]
  },
  {
   "cell_type": "code",
   "execution_count": 630,
   "metadata": {},
   "outputs": [
    {
     "data": {
      "text/html": [
       "<div>\n",
       "<style scoped>\n",
       "    .dataframe tbody tr th:only-of-type {\n",
       "        vertical-align: middle;\n",
       "    }\n",
       "\n",
       "    .dataframe tbody tr th {\n",
       "        vertical-align: top;\n",
       "    }\n",
       "\n",
       "    .dataframe thead th {\n",
       "        text-align: right;\n",
       "    }\n",
       "</style>\n",
       "<table border=\"1\" class=\"dataframe\">\n",
       "  <thead>\n",
       "    <tr style=\"text-align: right;\">\n",
       "      <th></th>\n",
       "      <th>id_x</th>\n",
       "      <th>par_frag</th>\n",
       "      <th>name</th>\n",
       "      <th>datasetId</th>\n",
       "      <th>formula</th>\n",
       "      <th>adduct</th>\n",
       "      <th>mz</th>\n",
       "      <th>fdr</th>\n",
       "      <th>moleculeNames</th>\n",
       "      <th>parent_y</th>\n",
       "      <th>n_frag_y</th>\n",
       "      <th>id_y</th>\n",
       "    </tr>\n",
       "  </thead>\n",
       "  <tbody>\n",
       "    <tr>\n",
       "      <td>0</td>\n",
       "      <td>HMDB0003601</td>\n",
       "      <td>12f</td>\n",
       "      <td>(S)-Reticuline</td>\n",
       "      <td>2017-05-17_19h49m04s</td>\n",
       "      <td>C9H11O2</td>\n",
       "      <td>M[M]+</td>\n",
       "      <td>151.075336</td>\n",
       "      <td>0.20</td>\n",
       "      <td>[HMDB0003601, 12f, (S)-Reticuline]</td>\n",
       "      <td>0</td>\n",
       "      <td>10</td>\n",
       "      <td>2</td>\n",
       "    </tr>\n",
       "    <tr>\n",
       "      <td>1</td>\n",
       "      <td>HMDB0003601</td>\n",
       "      <td>18f</td>\n",
       "      <td>(S)-Reticuline</td>\n",
       "      <td>2017-05-17_19h49m04s</td>\n",
       "      <td>C10H12NO2</td>\n",
       "      <td>M[M]+</td>\n",
       "      <td>178.086235</td>\n",
       "      <td>0.50</td>\n",
       "      <td>[HMDB0003601, 18f, (S)-Reticuline]</td>\n",
       "      <td>0</td>\n",
       "      <td>10</td>\n",
       "      <td>1</td>\n",
       "    </tr>\n",
       "    <tr>\n",
       "      <td>2</td>\n",
       "      <td>HMDB0003601</td>\n",
       "      <td>19f</td>\n",
       "      <td>(S)-Reticuline</td>\n",
       "      <td>2017-05-17_19h49m04s</td>\n",
       "      <td>C11H14NO2</td>\n",
       "      <td>M[M]+</td>\n",
       "      <td>192.101885</td>\n",
       "      <td>0.50</td>\n",
       "      <td>[HMDB0003601, 19f, (S)-Reticuline]</td>\n",
       "      <td>0</td>\n",
       "      <td>10</td>\n",
       "      <td>1</td>\n",
       "    </tr>\n",
       "    <tr>\n",
       "      <td>3</td>\n",
       "      <td>HMDB0003601</td>\n",
       "      <td>14f</td>\n",
       "      <td>(S)-Reticuline</td>\n",
       "      <td>2017-05-17_19h49m04s</td>\n",
       "      <td>C10H10NO</td>\n",
       "      <td>M[M]+</td>\n",
       "      <td>160.075671</td>\n",
       "      <td>0.05</td>\n",
       "      <td>[HMDB0003601, 14f, (S)-Reticuline]</td>\n",
       "      <td>0</td>\n",
       "      <td>10</td>\n",
       "      <td>1</td>\n",
       "    </tr>\n",
       "    <tr>\n",
       "      <td>4</td>\n",
       "      <td>HMDB0003601</td>\n",
       "      <td>21f</td>\n",
       "      <td>(S)-Reticuline</td>\n",
       "      <td>2017-05-17_19h49m04s</td>\n",
       "      <td>C15H13O</td>\n",
       "      <td>M[M]+</td>\n",
       "      <td>209.096072</td>\n",
       "      <td>0.50</td>\n",
       "      <td>[HMDB0003601, 21f, (S)-Reticuline]</td>\n",
       "      <td>0</td>\n",
       "      <td>10</td>\n",
       "      <td>1</td>\n",
       "    </tr>\n",
       "    <tr>\n",
       "      <td>...</td>\n",
       "      <td>...</td>\n",
       "      <td>...</td>\n",
       "      <td>...</td>\n",
       "      <td>...</td>\n",
       "      <td>...</td>\n",
       "      <td>...</td>\n",
       "      <td>...</td>\n",
       "      <td>...</td>\n",
       "      <td>...</td>\n",
       "      <td>...</td>\n",
       "      <td>...</td>\n",
       "      <td>...</td>\n",
       "    </tr>\n",
       "    <tr>\n",
       "      <td>301</td>\n",
       "      <td>HMDB0000960</td>\n",
       "      <td>20f</td>\n",
       "      <td>dGDP</td>\n",
       "      <td>2017-05-17_19h49m04s</td>\n",
       "      <td>C7H8N2O2</td>\n",
       "      <td>M[M]+</td>\n",
       "      <td>152.058009</td>\n",
       "      <td>0.05</td>\n",
       "      <td>[HMDB0000960, 20f, dGDP]</td>\n",
       "      <td>1</td>\n",
       "      <td>3</td>\n",
       "      <td>4</td>\n",
       "    </tr>\n",
       "    <tr>\n",
       "      <td>302</td>\n",
       "      <td>HMDB0000960</td>\n",
       "      <td>22f</td>\n",
       "      <td>dGDP</td>\n",
       "      <td>2017-05-17_19h49m04s</td>\n",
       "      <td>C10H15N4O3</td>\n",
       "      <td>M[M]+</td>\n",
       "      <td>239.113847</td>\n",
       "      <td>0.20</td>\n",
       "      <td>[HMDB0000960, 22f, dGDP]</td>\n",
       "      <td>1</td>\n",
       "      <td>3</td>\n",
       "      <td>4</td>\n",
       "    </tr>\n",
       "    <tr>\n",
       "      <td>303</td>\n",
       "      <td>HMDB0001409</td>\n",
       "      <td>3p</td>\n",
       "      <td>dUMP</td>\n",
       "      <td>2017-05-17_19h49m04s</td>\n",
       "      <td>C9H14N2O8P</td>\n",
       "      <td>M[M]+</td>\n",
       "      <td>309.048209</td>\n",
       "      <td>0.50</td>\n",
       "      <td>[HMDB0001409, 3p, dUMP]</td>\n",
       "      <td>1</td>\n",
       "      <td>0</td>\n",
       "      <td>1</td>\n",
       "    </tr>\n",
       "    <tr>\n",
       "      <td>304</td>\n",
       "      <td>HMDB0000211</td>\n",
       "      <td>1p</td>\n",
       "      <td>myo-Inositol</td>\n",
       "      <td>2017-05-17_19h49m04s</td>\n",
       "      <td>C6H12O6Na</td>\n",
       "      <td>M[M]+</td>\n",
       "      <td>203.052590</td>\n",
       "      <td>0.05</td>\n",
       "      <td>[HMDB0000211, 1p, myo-Inositol]</td>\n",
       "      <td>1</td>\n",
       "      <td>0</td>\n",
       "      <td>24</td>\n",
       "    </tr>\n",
       "    <tr>\n",
       "      <td>305</td>\n",
       "      <td>HMDB0006088</td>\n",
       "      <td>1p</td>\n",
       "      <td>scyllo-Inositol</td>\n",
       "      <td>2017-05-17_19h49m04s</td>\n",
       "      <td>C6H12O6Na</td>\n",
       "      <td>M[M]+</td>\n",
       "      <td>203.052590</td>\n",
       "      <td>0.05</td>\n",
       "      <td>[HMDB0006088, 1p, scyllo-Inositol]</td>\n",
       "      <td>1</td>\n",
       "      <td>0</td>\n",
       "      <td>24</td>\n",
       "    </tr>\n",
       "  </tbody>\n",
       "</table>\n",
       "<p>306 rows × 12 columns</p>\n",
       "</div>"
      ],
      "text/plain": [
       "            id_x par_frag             name             datasetId     formula  \\\n",
       "0    HMDB0003601      12f   (S)-Reticuline  2017-05-17_19h49m04s     C9H11O2   \n",
       "1    HMDB0003601      18f   (S)-Reticuline  2017-05-17_19h49m04s   C10H12NO2   \n",
       "2    HMDB0003601      19f   (S)-Reticuline  2017-05-17_19h49m04s   C11H14NO2   \n",
       "3    HMDB0003601      14f   (S)-Reticuline  2017-05-17_19h49m04s    C10H10NO   \n",
       "4    HMDB0003601      21f   (S)-Reticuline  2017-05-17_19h49m04s     C15H13O   \n",
       "..           ...      ...              ...                   ...         ...   \n",
       "301  HMDB0000960      20f             dGDP  2017-05-17_19h49m04s    C7H8N2O2   \n",
       "302  HMDB0000960      22f             dGDP  2017-05-17_19h49m04s  C10H15N4O3   \n",
       "303  HMDB0001409       3p             dUMP  2017-05-17_19h49m04s  C9H14N2O8P   \n",
       "304  HMDB0000211       1p     myo-Inositol  2017-05-17_19h49m04s   C6H12O6Na   \n",
       "305  HMDB0006088       1p  scyllo-Inositol  2017-05-17_19h49m04s   C6H12O6Na   \n",
       "\n",
       "    adduct          mz   fdr                       moleculeNames  parent_y  \\\n",
       "0    M[M]+  151.075336  0.20  [HMDB0003601, 12f, (S)-Reticuline]         0   \n",
       "1    M[M]+  178.086235  0.50  [HMDB0003601, 18f, (S)-Reticuline]         0   \n",
       "2    M[M]+  192.101885  0.50  [HMDB0003601, 19f, (S)-Reticuline]         0   \n",
       "3    M[M]+  160.075671  0.05  [HMDB0003601, 14f, (S)-Reticuline]         0   \n",
       "4    M[M]+  209.096072  0.50  [HMDB0003601, 21f, (S)-Reticuline]         0   \n",
       "..     ...         ...   ...                                 ...       ...   \n",
       "301  M[M]+  152.058009  0.05            [HMDB0000960, 20f, dGDP]         1   \n",
       "302  M[M]+  239.113847  0.20            [HMDB0000960, 22f, dGDP]         1   \n",
       "303  M[M]+  309.048209  0.50             [HMDB0001409, 3p, dUMP]         1   \n",
       "304  M[M]+  203.052590  0.05     [HMDB0000211, 1p, myo-Inositol]         1   \n",
       "305  M[M]+  203.052590  0.05  [HMDB0006088, 1p, scyllo-Inositol]         1   \n",
       "\n",
       "     n_frag_y  id_y  \n",
       "0          10     2  \n",
       "1          10     1  \n",
       "2          10     1  \n",
       "3          10     1  \n",
       "4          10     1  \n",
       "..        ...   ...  \n",
       "301         3     4  \n",
       "302         3     4  \n",
       "303         0     1  \n",
       "304         0    24  \n",
       "305         0    24  \n",
       "\n",
       "[306 rows x 12 columns]"
      ]
     },
     "execution_count": 630,
     "metadata": {},
     "output_type": "execute_result"
    }
   ],
   "source": [
    "ms_out"
   ]
  },
  {
   "cell_type": "markdown",
   "metadata": {},
   "source": [
    "# Friday:\n",
    "1. API access ion images and put in folders as pairs\n",
    "2. Add libraries HMDB, all Mona dl, PNNL in GNPS\n",
    "\n",
    "Next Jupyter notebook:\n",
    "http://localhost:8888/notebooks/PycharmProjects/word2vec/export_ion_mages.ipynb"
   ]
  }
 ],
 "metadata": {
  "kernelspec": {
   "display_name": "Python 3",
   "language": "python",
   "name": "python3"
  },
  "language_info": {
   "codemirror_mode": {
    "name": "ipython",
    "version": 3
   },
   "file_extension": ".py",
   "mimetype": "text/x-python",
   "name": "python",
   "nbconvert_exporter": "python",
   "pygments_lexer": "ipython3",
   "version": "3.6.8"
  }
 },
 "nbformat": 4,
 "nbformat_minor": 2
}
