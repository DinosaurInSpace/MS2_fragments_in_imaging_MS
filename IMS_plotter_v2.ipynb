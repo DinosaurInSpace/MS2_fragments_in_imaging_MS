{
 "cells": [
  {
   "cell_type": "code",
   "execution_count": 33,
   "metadata": {},
   "outputs": [],
   "source": [
    "from pyimzml.ImzMLParser import ImzMLParser\n",
    "from pyimzml.ImzMLParser import getionimage\n",
    "from matplotlib import pyplot as plt\n",
    "import numpy as np\n",
    "import pandas as pd\n",
    "import json\n",
    "import os"
   ]
  },
  {
   "cell_type": "code",
   "execution_count": 10,
   "metadata": {},
   "outputs": [],
   "source": [
    "def hotspot_fill_2(img, per):\n",
    "    q = np.quantile(img, per)\n",
    "    img[img > q] = q\n",
    "    return img"
   ]
  },
  {
   "cell_type": "code",
   "execution_count": 7,
   "metadata": {
    "scrolled": true
   },
   "outputs": [],
   "source": [
    "def plot_ion_image(mz, f, path):\n",
    "    tol_ppm = mz * 3 / 1000000\n",
    "    x = getionimage(f, mz, tol=tol_ppm, z=1, reduce_func=sum)\n",
    "    x = hotspot_fill_2(x, 0.99)\n",
    "\n",
    "    #%matplotlib notebook\n",
    "    plt.imshow(x, cmap='viridis', interpolation ='nearest')\n",
    "    plt.savefig(path, bbox_inches='tight')\n",
    "    return path"
   ]
  },
  {
   "cell_type": "markdown",
   "metadata": {},
   "source": [
    "# Manually plots METASPACE data from MSMS fragment search\n",
    "\n",
    "See:\n",
    "http://localhost:8888/notebooks/PycharmProjects/word2vec/database_expt_msms_to_METASPACE.ipynb"
   ]
  },
  {
   "cell_type": "code",
   "execution_count": 19,
   "metadata": {},
   "outputs": [
    {
     "data": {
      "text/html": [
       "<div>\n",
       "<style scoped>\n",
       "    .dataframe tbody tr th:only-of-type {\n",
       "        vertical-align: middle;\n",
       "    }\n",
       "\n",
       "    .dataframe tbody tr th {\n",
       "        vertical-align: top;\n",
       "    }\n",
       "\n",
       "    .dataframe thead th {\n",
       "        text-align: right;\n",
       "    }\n",
       "</style>\n",
       "<table border=\"1\" class=\"dataframe\">\n",
       "  <thead>\n",
       "    <tr style=\"text-align: right;\">\n",
       "      <th></th>\n",
       "      <th>id_x</th>\n",
       "      <th>par_frag</th>\n",
       "      <th>name</th>\n",
       "      <th>datasetId</th>\n",
       "      <th>formula</th>\n",
       "      <th>adduct</th>\n",
       "      <th>mz</th>\n",
       "      <th>fdr</th>\n",
       "      <th>moleculeNames</th>\n",
       "      <th>parent_y</th>\n",
       "      <th>n_frag_y</th>\n",
       "      <th>id_y</th>\n",
       "    </tr>\n",
       "  </thead>\n",
       "  <tbody>\n",
       "    <tr>\n",
       "      <td>0</td>\n",
       "      <td>HMDB0003601</td>\n",
       "      <td>12f</td>\n",
       "      <td>(S)-Reticuline</td>\n",
       "      <td>2017-05-17_19h49m04s</td>\n",
       "      <td>C9H11O2</td>\n",
       "      <td>M[M]+</td>\n",
       "      <td>151.075336</td>\n",
       "      <td>0.20</td>\n",
       "      <td>[HMDB0003601, 12f, (S)-Reticuline]</td>\n",
       "      <td>0</td>\n",
       "      <td>10</td>\n",
       "      <td>2</td>\n",
       "    </tr>\n",
       "    <tr>\n",
       "      <td>1</td>\n",
       "      <td>HMDB0003601</td>\n",
       "      <td>18f</td>\n",
       "      <td>(S)-Reticuline</td>\n",
       "      <td>2017-05-17_19h49m04s</td>\n",
       "      <td>C10H12NO2</td>\n",
       "      <td>M[M]+</td>\n",
       "      <td>178.086235</td>\n",
       "      <td>0.50</td>\n",
       "      <td>[HMDB0003601, 18f, (S)-Reticuline]</td>\n",
       "      <td>0</td>\n",
       "      <td>10</td>\n",
       "      <td>1</td>\n",
       "    </tr>\n",
       "    <tr>\n",
       "      <td>2</td>\n",
       "      <td>HMDB0003601</td>\n",
       "      <td>19f</td>\n",
       "      <td>(S)-Reticuline</td>\n",
       "      <td>2017-05-17_19h49m04s</td>\n",
       "      <td>C11H14NO2</td>\n",
       "      <td>M[M]+</td>\n",
       "      <td>192.101885</td>\n",
       "      <td>0.50</td>\n",
       "      <td>[HMDB0003601, 19f, (S)-Reticuline]</td>\n",
       "      <td>0</td>\n",
       "      <td>10</td>\n",
       "      <td>1</td>\n",
       "    </tr>\n",
       "    <tr>\n",
       "      <td>3</td>\n",
       "      <td>HMDB0003601</td>\n",
       "      <td>14f</td>\n",
       "      <td>(S)-Reticuline</td>\n",
       "      <td>2017-05-17_19h49m04s</td>\n",
       "      <td>C10H10NO</td>\n",
       "      <td>M[M]+</td>\n",
       "      <td>160.075671</td>\n",
       "      <td>0.05</td>\n",
       "      <td>[HMDB0003601, 14f, (S)-Reticuline]</td>\n",
       "      <td>0</td>\n",
       "      <td>10</td>\n",
       "      <td>1</td>\n",
       "    </tr>\n",
       "    <tr>\n",
       "      <td>4</td>\n",
       "      <td>HMDB0003601</td>\n",
       "      <td>21f</td>\n",
       "      <td>(S)-Reticuline</td>\n",
       "      <td>2017-05-17_19h49m04s</td>\n",
       "      <td>C15H13O</td>\n",
       "      <td>M[M]+</td>\n",
       "      <td>209.096072</td>\n",
       "      <td>0.50</td>\n",
       "      <td>[HMDB0003601, 21f, (S)-Reticuline]</td>\n",
       "      <td>0</td>\n",
       "      <td>10</td>\n",
       "      <td>1</td>\n",
       "    </tr>\n",
       "  </tbody>\n",
       "</table>\n",
       "</div>"
      ],
      "text/plain": [
       "          id_x par_frag            name             datasetId    formula  \\\n",
       "0  HMDB0003601      12f  (S)-Reticuline  2017-05-17_19h49m04s    C9H11O2   \n",
       "1  HMDB0003601      18f  (S)-Reticuline  2017-05-17_19h49m04s  C10H12NO2   \n",
       "2  HMDB0003601      19f  (S)-Reticuline  2017-05-17_19h49m04s  C11H14NO2   \n",
       "3  HMDB0003601      14f  (S)-Reticuline  2017-05-17_19h49m04s   C10H10NO   \n",
       "4  HMDB0003601      21f  (S)-Reticuline  2017-05-17_19h49m04s    C15H13O   \n",
       "\n",
       "  adduct          mz   fdr                       moleculeNames  parent_y  \\\n",
       "0  M[M]+  151.075336  0.20  [HMDB0003601, 12f, (S)-Reticuline]         0   \n",
       "1  M[M]+  178.086235  0.50  [HMDB0003601, 18f, (S)-Reticuline]         0   \n",
       "2  M[M]+  192.101885  0.50  [HMDB0003601, 19f, (S)-Reticuline]         0   \n",
       "3  M[M]+  160.075671  0.05  [HMDB0003601, 14f, (S)-Reticuline]         0   \n",
       "4  M[M]+  209.096072  0.50  [HMDB0003601, 21f, (S)-Reticuline]         0   \n",
       "\n",
       "   n_frag_y  id_y  \n",
       "0        10     2  \n",
       "1        10     1  \n",
       "2        10     1  \n",
       "3        10     1  \n",
       "4        10     1  "
      ]
     },
     "execution_count": 19,
     "metadata": {},
     "output_type": "execute_result"
    }
   ],
   "source": [
    "df = pd.read_pickle('ms_out_v3_test01.pickle')\n",
    "df.head(5)"
   ]
  },
  {
   "cell_type": "code",
   "execution_count": 8,
   "metadata": {},
   "outputs": [
    {
     "data": {
      "text/plain": [
       "<pyimzml.ImzMLParser.ImzMLParser at 0x11993c160>"
      ]
     },
     "execution_count": 8,
     "metadata": {},
     "output_type": "execute_result"
    }
   ],
   "source": [
    "f = ImzMLParser('/Users/dis/Desktop/whole_body_word_2_vec/datasets/wb xenograft in situ metabolomics test - rms_corrected.imzML')\n",
    "f"
   ]
  },
  {
   "cell_type": "code",
   "execution_count": 41,
   "metadata": {},
   "outputs": [],
   "source": [
    "def writeIonImg(x, path, f):\n",
    "    mz = str(x.mz)[0:7]\n",
    "    if 'p' in x.par_frag:\n",
    "        title = x.id_x + '_' + 'parent' + '_' + mz\n",
    "    else:\n",
    "        title = x.id_x + '_' + 'fragment' + '_' + mz\n",
    "    fn = path + title + '.png'\n",
    "    return plot_ion_image(x.mz, f, fn)"
   ]
  },
  {
   "cell_type": "code",
   "execution_count": 42,
   "metadata": {},
   "outputs": [
    {
     "name": "stdout",
     "output_type": "stream",
     "text": [
      "HMDB0003601\n"
     ]
    },
    {
     "name": "stderr",
     "output_type": "stream",
     "text": [
      "/Users/dis/anaconda3/envs/lcenv/lib/python3.6/site-packages/ipykernel_launcher.py:12: SettingWithCopyWarning: \n",
      "A value is trying to be set on a copy of a slice from a DataFrame.\n",
      "Try using .loc[row_indexer,col_indexer] = value instead\n",
      "\n",
      "See the caveats in the documentation: http://pandas.pydata.org/pandas-docs/stable/user_guide/indexing.html#returning-a-view-versus-a-copy\n",
      "  if sys.path[0] == '':\n"
     ]
    },
    {
     "name": "stdout",
     "output_type": "stream",
     "text": [
      "HMDB0001044\n",
      "HMDB0000397\n",
      "HMDB0062195\n",
      "HMDB0003540\n",
      "HMDB0001434\n",
      "HMDB0001886\n",
      "HMDB0000982\n",
      "HMDB0001341\n",
      "HMDB0029423\n",
      "HMDB0000050\n",
      "HMDB0000061\n",
      "HMDB0000045\n",
      "HMDB0001151\n",
      "HMDB0003345\n",
      "HMDB0000186\n",
      "HMDB0001388\n",
      "HMDB0000510\n",
      "HMDB0000194\n",
      "HMDB0000706\n",
      "HMDB0003449\n",
      "HMDB0000516\n",
      "msmls133\n",
      "HMDB0000033\n",
      "HMDB0000055\n",
      "HMDB0000064\n",
      "HMDB0000562\n",
      "HMDB0000095\n",
      "HMDB0003416\n",
      "HMDB0000660\n",
      "HMDB0000143\n",
      "HMDB0000122\n",
      "HMDB0000163\n",
      "HMDB0000169\n",
      "HMDB0003418\n",
      "HMDB0240209\n",
      "msmls183\n",
      "msmls189\n",
      "HMDB0000085\n",
      "HMDB0000153\n",
      "HMDB0003073\n",
      "HMDB0000152\n",
      "HMDB0000661\n",
      "HMDB0000132\n",
      "HMDB0000133\n",
      "HMDB0001201\n",
      "HMDB0001397\n",
      "HMDB0000714\n",
      "HMDB0000157\n",
      "msmls303\n",
      "HMDB0001190\n",
      "HMDB0000195\n",
      "HMDB0000175\n",
      "HMDB0028910\n",
      "HMDB0000201\n",
      "HMDB0000517\n",
      "HMDB0000062\n",
      "HMDB0033704\n",
      "HMDB0012326\n",
      "HMDB0000177\n",
      "HMDB0000222\n",
      "HMDB0001266\n",
      "HMDB0000158\n",
      "HMDB0032358\n",
      "HMDB0028933\n",
      "HMDB0011175\n",
      "HMDB0034220\n",
      "HMDB0006461\n",
      "HMDB0006469\n",
      "HMDB0010381\n",
      "HMDB0010382\n",
      "HMDB0010384\n",
      "HMDB0002815\n",
      "HMDB0062496\n",
      "HMDB0037138\n",
      "HMDB0001262\n",
      "HMDB0000048\n",
      "HMDB0011754\n",
      "HMDB0000512\n",
      "HMDB0062660\n",
      "HMDB0004824\n",
      "HMDB0001325\n",
      "HMDB0002189\n",
      "HMDB0034146\n",
      "HMDB0005065\n",
      "HMDB0000786\n",
      "HMDB0000205\n",
      "HMDB0001565\n",
      "HMDB0000824\n",
      "HMDB0003213\n",
      "HMDB0000939\n",
      "HMDB0001256\n",
      "HMDB0000258\n",
      "HMDB0000036\n",
      "HMDB0005066\n",
      "HMDB0014447\n",
      "HMDB0000975\n",
      "HMDB0003447\n",
      "HMDB0000292\n",
      "HMDB0001508\n",
      "HMDB0000960\n",
      "HMDB0001409\n",
      "HMDB0000211\n",
      "HMDB0006088\n"
     ]
    },
    {
     "data": {
      "image/png": "[encoded data removed]",
      "text/plain": [
       "<Figure size 432x288 with 1 Axes>"
      ]
     },
     "metadata": {
      "needs_background": "light"
     },
     "output_type": "display_data"
    }
   ],
   "source": [
    "out_df = pd.DataFrame()\n",
    "id_list = list(df.id_x.unique())\n",
    "for x in id_list:\n",
    "    print(x)\n",
    "    path = \"/Users/dis/PycharmProjects/word2vec/ion_images/\" + x + '/'\n",
    "    try:\n",
    "        os.mkdir(path)\n",
    "    except:\n",
    "        pass\n",
    "    temp_df = df[df.id_x == x]\n",
    "    temp_df['imgIMS'] = temp_df.apply(lambda x: writeIonImg(x, path, f), \n",
    "                                      axis=1)\n",
    "    out_df = pd.concat([out_df, temp_df])"
   ]
  },
  {
   "cell_type": "code",
   "execution_count": 45,
   "metadata": {},
   "outputs": [
    {
     "data": {
      "text/plain": [
       "'/Users/dis/PycharmProjects/word2vec/ion_images/HMDB0003601/HMDB0003601_fragment_151.075.png'"
      ]
     },
     "execution_count": 45,
     "metadata": {},
     "output_type": "execute_result"
    }
   ],
   "source": [
    "out_df.loc[0].imgIMS"
   ]
  },
  {
   "cell_type": "code",
   "execution_count": 46,
   "metadata": {},
   "outputs": [],
   "source": [
    "out_df.to_pickle('word_2_vec_MSMS_test_01_2020Apr_17_CMBR.pickle')"
   ]
  },
  {
   "cell_type": "code",
   "execution_count": null,
   "metadata": {},
   "outputs": [],
   "source": []
  },
  {
   "cell_type": "code",
   "execution_count": 17,
   "metadata": {},
   "outputs": [],
   "source": [
    "title = df.loc[278].id_x\n",
    "mz = df.loc[278].mz\n",
    "path = \"/Users/dis/PycharmProjects/word2vec/ion_images/\" + title"
   ]
  },
  {
   "cell_type": "code",
   "execution_count": 18,
   "metadata": {},
   "outputs": [
    {
     "data": {
      "text/plain": [
       "'/Users/dis/PycharmProjects/word2vec/ion_images/HMDB0000036'"
      ]
     },
     "execution_count": 18,
     "metadata": {},
     "output_type": "execute_result"
    },
    {
     "data": {
      "image/png": "[encoded data removed]",
      "text/plain": [
       "<Figure size 432x288 with 1 Axes>"
      ]
     },
     "metadata": {
      "needs_background": "light"
     },
     "output_type": "display_data"
    }
   ],
   "source": [
    "plot_ion_image(mz, f, path)"
   ]
  },
  {
   "cell_type": "code",
   "execution_count": null,
   "metadata": {},
   "outputs": [],
   "source": []
  }
 ],
 "metadata": {
  "kernelspec": {
   "display_name": "Python 3",
   "language": "python",
   "name": "python3"
  },
  "language_info": {
   "codemirror_mode": {
    "name": "ipython",
    "version": 3
   },
   "file_extension": ".py",
   "mimetype": "text/x-python",
   "name": "python",
   "nbconvert_exporter": "python",
   "pygments_lexer": "ipython3",
   "version": "3.6.8"
  }
 },
 "nbformat": 4,
 "nbformat_minor": 2
}
