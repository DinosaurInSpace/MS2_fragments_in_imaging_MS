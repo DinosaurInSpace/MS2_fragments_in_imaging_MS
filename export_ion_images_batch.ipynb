{
 "cells": [
  {
   "cell_type": "code",
   "execution_count": 2,
   "metadata": {},
   "outputs": [],
   "source": [
    "# Will reload modeules after this when they change!\n",
    "%load_ext autoreload\n",
    "%autoreload 2"
   ]
  },
  {
   "cell_type": "code",
   "execution_count": 3,
   "metadata": {},
   "outputs": [
    {
     "data": {
      "text/plain": [
       "SMInstance(https://beta.metaspace2020.eu/graphql)"
      ]
     },
     "execution_count": 3,
     "metadata": {},
     "output_type": "execute_result"
    }
   ],
   "source": [
    "%matplotlib inline\n",
    "from matplotlib import pyplot as plt\n",
    "import pandas as pd\n",
    "import json\n",
    "import ast\n",
    "import matplotlib.image as mpimg\n",
    "import numpy as np\n",
    "import pathlib\n",
    "from shutil import copyfile\n",
    "\n",
    "from metaspace.sm_annotation_utils import SMInstance\n",
    "import getpass\n",
    "\n",
    "# this is the local copy of the method edited to run on its own.\n",
    "# currently broken\n",
    "from results_local import results as results2\n",
    "\n",
    "from main_functions import *\n",
    "\n",
    "from metaspace.sm_annotation_utils import GraphQLClient\n",
    "del GraphQLClient.DEFAULT_ANNOTATION_FILTER['hasHiddenAdduct']\n",
    "\n",
    "sm = SMInstance(host='https://beta.metaspace2020.eu')\n",
    "\n",
    "import types\n",
    "# Assign external function as method to object\n",
    "sm.results2 = types.MethodType(results2, sm)\n",
    "\n",
    "sm"
   ]
  },
  {
   "cell_type": "markdown",
   "metadata": {},
   "source": [
    "-Goal: extract ion images from METASPACE and put in folders by assigned ID with parents and fragments together.\n",
    "\n",
    "Previous notebook: \n",
    "http://localhost:8888/notebooks/PycharmProjects/word2vec/database_expt_msms_to_METASPACE.ipynb\n",
    "\n",
    "Tutorial template:\n",
    "https://github.com/metaspace2020/metaspace/blob/master/metaspace/python-client/example/iso_img_retrieval.ipynb\n"
   ]
  },
  {
   "cell_type": "code",
   "execution_count": 4,
   "metadata": {},
   "outputs": [],
   "source": [
    "# Load secret stuff!\n",
    "f = open('/Users/dis/.metaspace.json', \"r\")\n",
    "secret = (f.read())\n",
    "secret = secret.replace('\\n','')\n",
    "secret = ast.literal_eval(secret)\n",
    "f.close()\n",
    "\n",
    "# Logon\n",
    "#api_key = getpass.getpass(prompt='API key: ', stream=None)\n",
    "sm.login(secret['email'], secret['password'])"
   ]
  },
  {
   "cell_type": "code",
   "execution_count": 5,
   "metadata": {},
   "outputs": [],
   "source": [
    "def metaspace_hotspot_removal(img):\n",
    "  awkwardness = np.max(img) / 255 # METASPACE holdover from 8-bit\n",
    "  hot_thresold = np.percentile(img[img >= awkwardness], 99) or 1\n",
    "  return np.clip(img, 0, hot_thresold) / hot_thresold"
   ]
  },
  {
   "cell_type": "code",
   "execution_count": 64,
   "metadata": {},
   "outputs": [],
   "source": [
    "cm3_wb_ds_prod_beta_dict = {'2016-09-21_16h07m45s': '2020-04-29_00h28m08s',\n",
    "                            '2017-05-17_19h49m04s': '2020-04-29_00h28m11s',\n",
    "                            '2017-05-17_19h50m07s': '2020-04-29_00h28m14s',\n",
    "                            '2017-05-29_07h28m52s': '2020-04-29_00h28m17s',\n",
    "                            '2017-08-03_15h09m06s': '2020-04-29_00h28m28s',\n",
    "                            '2017-08-03_15h09m51s': '2020-04-29_00h28m31s',\n",
    "                            '2017-08-11_07h59m58s': '2020-04-29_00h28m35s',\n",
    "                            '2017-08-11_08h01m02s': '2020-04-29_00h28m39s'\n",
    "                           }"
   ]
  },
  {
   "cell_type": "code",
   "execution_count": 79,
   "metadata": {},
   "outputs": [],
   "source": [
    "# METASPACE reports manually downloaded re: API issues."
   ]
  },
  {
   "cell_type": "code",
   "execution_count": 80,
   "metadata": {},
   "outputs": [
    {
     "name": "stdout",
     "output_type": "stream",
     "text": [
      "2020-04-29_00h28m08s\n",
      "['any_results/metaspace_report/2020-04-29_00h28m08s.csv']\n",
      "(54, 20)\n",
      "(806, 12)\n",
      "2020-04-29_00h28m11s\n",
      "['any_results/metaspace_report/2020-04-29_00h28m11s.csv']\n",
      "(1165, 20)\n",
      "(6879, 12)\n",
      "2020-04-29_00h28m14s\n",
      "['any_results/metaspace_report/2020-04-29_00h28m14s.csv']\n",
      "(1266, 20)\n",
      "(8203, 12)\n",
      "2020-04-29_00h28m17s\n",
      "['any_results/metaspace_report/2020-04-29_00h28m17s.csv']\n",
      "(244, 20)\n",
      "(2889, 12)\n",
      "2020-04-29_00h28m28s\n",
      "['any_results/metaspace_report/2020-04-29_00h28m28s.csv']\n",
      "(113, 20)\n",
      "(1714, 12)\n",
      "2020-04-29_00h28m31s\n",
      "['any_results/metaspace_report/2020-04-29_00h28m31s.csv']\n",
      "(108, 20)\n",
      "(1344, 12)\n",
      "2020-04-29_00h28m35s\n",
      "['any_results/metaspace_report/2020-04-29_00h28m35s.csv']\n",
      "(137, 20)\n",
      "(1576, 12)\n",
      "2020-04-29_00h28m39s\n",
      "['any_results/metaspace_report/2020-04-29_00h28m39s.csv']\n",
      "(148, 20)\n",
      "(1844, 12)\n"
     ]
    }
   ],
   "source": [
    "# Run when METASPACE reports change, loop to make msms reports.\n",
    "for prod_id, beta_id in cm3_wb_ds_prod_beta_dict.items():\n",
    "    print(beta_id)\n",
    "    target = 'any_results/metaspace_report/' + beta_id + '.csv'\n",
    "    fh = glob.glob(target)\n",
    "    print(fh)\n",
    "    ms_out = pd.read_csv(fh[0], header=2)\n",
    "    print(ms_out.shape)\n",
    "    ms_out2 = extract_results_METASPACE(ms_out)\n",
    "    print(ms_out2.shape)\n",
    "    ms_out2.to_csv('any_results/msms_report/' + prod_id + '_msms_report.csv')"
   ]
  },
  {
   "cell_type": "code",
   "execution_count": 52,
   "metadata": {},
   "outputs": [],
   "source": [
    "# For Theo manual msms report 1) has parent, and 2) 1+ fragment\n",
    "msms_reps = glob.glob('any_results/msms_report/*.csv')\n",
    "for rep in msms_reps:\n",
    "    df = pd.read_csv(rep)\n",
    "    df = df[(df.parent_y == 1) & (df.n_frag_y > 0)]\n",
    "    ds_name = rep.split('/')[-1]\n",
    "    ds_name = ds_name.split('.')[0]\n",
    "    outpath = 'any_results/msms_theo_man_report/' + ds_name + '.csv'\n",
    "    df.to_csv(outpath)"
   ]
  },
  {
   "cell_type": "code",
   "execution_count": 81,
   "metadata": {},
   "outputs": [],
   "source": [
    "def dl_img(main_id, beta_id, db, fdr_max, save_img):\n",
    "    # Load and save dataset as image or arrays (saved as df)\n",
    "    ds = sm.dataset(id=beta_id)\n",
    "    print(ds)\n",
    "    \n",
    "    # Generate and save images\n",
    "    x = ds.all_annotation_images(fdr=fdr_max, \n",
    "                                 database=db,\n",
    "                                 only_first_isotope=True,\n",
    "                                 scale_intensity=False,\n",
    "                                 hasHiddenAdduct=True)\n",
    "    if x == []:\n",
    "        return 'Error, empty annotations!'\n",
    "    else:\n",
    "        for n in x:\n",
    "            if save_img == True:\n",
    "                image = metaspace_hotspot_removal(n._images[0])\n",
    "                plt.imshow(image)\n",
    "                pathlib.Path('formula/' + main_id + '/').mkdir(parents=True, exist_ok=True)\n",
    "                img_name = 'formula/' + main_id + '/' + n.formula + '.png'\n",
    "                plt.imsave(img_name, image)\n",
    "            else:\n",
    "                # For saving arrays as df per Theo's request\n",
    "                df = pd.DataFrame(data=metaspace_hotspot_removal(n._images[0]))\n",
    "                pathlib.Path('any_results/formula_arr/' + main_id + '/').mkdir(parents=True, exist_ok=True)\n",
    "                arr_name = 'any_results/formula_arr/' + main_id + '/' + n.formula + '.txt'\n",
    "                df.to_pickle(arr_name)\n",
    "    return 1"
   ]
  },
  {
   "cell_type": "code",
   "execution_count": 82,
   "metadata": {},
   "outputs": [
    {
     "name": "stdout",
     "output_type": "stream",
     "text": [
      "SMDataset(Technologie_Servier//TES-WBrat-vehicle (cloned from 2016-09-21_16h07m45s) | ID: 2020-04-29_00h28m08s)\n",
      "SMDataset(whole body xenograft (1) [RMS norm] (cloned from 2017-05-17_19h49m04s) | ID: 2020-04-29_00h28m11s)\n",
      "SMDataset(wb xenograft trp pathway dosed- rms_corrected (cloned from 2017-05-17_19h50m07s) | ID: 2020-04-29_00h28m14s)\n",
      "SMDataset(servier_TT_mouse_wb_fmpts_derivatization_CHCA (cloned from 2017-05-29_07h28m52s) | ID: 2020-04-29_00h28m17s)\n",
      "SMDataset(Servier_Ctrl_mouse_wb_median_plane_chca (cloned from 2017-08-03_15h09m06s) | ID: 2020-04-29_00h28m28s)\n",
      "SMDataset(Servier_Ctrl_mouse_wb_lateral_plane_chca (cloned from 2017-08-03_15h09m51s) | ID: 2020-04-29_00h28m31s)\n",
      "SMDataset(Servier_Ctrl_mouse_wb_lateral_plane_DHB (cloned from 2017-08-11_07h59m58s) | ID: 2020-04-29_00h28m35s)\n",
      "SMDataset(Servier_Ctrl_mouse_wb_median_plane_DHB (cloned from 2017-08-11_08h01m02s) | ID: 2020-04-29_00h28m39s)\n"
     ]
    }
   ],
   "source": [
    "# Loop to download images from METASPACE for datasets\n",
    "# Last arguement False == arrays, True = images\n",
    "for prod_id, beta_id in cm3_wb_ds_prod_beta_dict.items():\n",
    "    dl_img(prod_id, \n",
    "           beta_id, \n",
    "           'any_ds_db_msms_2020_Apr_28',\n",
    "           0.5,\n",
    "           False)"
   ]
  },
  {
   "cell_type": "code",
   "execution_count": 88,
   "metadata": {},
   "outputs": [],
   "source": [
    "def copy_by_parent(new_id, report, img_true):\n",
    "    ms_out = pd.read_csv(report)\n",
    "    print(new_id)\n",
    "    \n",
    "    # iterate through ms_out, find img by formula, save in folder by id\n",
    "    max_rows = ms_out.shape[0]\n",
    "    counter = 0\n",
    "    while counter < max_rows:\n",
    "        ser = ms_out.iloc[counter,:]\n",
    "        form = ser.formula\n",
    "        par_id = ser.id_x\n",
    "        name = ser.moleculeNames.join('_')\n",
    "        ion_type = ser.par_frag\n",
    "        \n",
    "        if ion_type.find('p') != -1:\n",
    "            out_ion = '_P'\n",
    "        elif ion_type.find('f') != -1:\n",
    "            out_ion = '_F'\n",
    "        else:\n",
    "            print('unknown ion type!')\n",
    "        \n",
    "        # Man edit line below for out path!\n",
    "        outpath = 'any_results/by_id2_arr/' + new_id + '/' + par_id + '/'\n",
    "        pathlib.Path(outpath).mkdir(parents=True, exist_ok=True)\n",
    "        \n",
    "        if img_true == True:\n",
    "            infile = glob.glob('any_results/formula/' + \n",
    "                               new_id + '/' + form + '.png')[0]\n",
    "            outfile = outpath + form + out_ion + '.png'\n",
    "\n",
    "        else:\n",
    "            infile = glob.glob('any_results/formula_arr/' + \n",
    "                               new_id + '/' + form + '.txt')[0]\n",
    "            outfile = outpath + form + out_ion + '.txt'\n",
    "\n",
    "        #print(infile, '\\n', outfile)\n",
    "        copyfile(infile, outfile)\n",
    "        counter +=1\n",
    "    print(new_id, ' Counter: ', counter)\n",
    "    return 1"
   ]
  },
  {
   "cell_type": "code",
   "execution_count": 89,
   "metadata": {},
   "outputs": [
    {
     "name": "stdout",
     "output_type": "stream",
     "text": [
      "2016-09-21_16h07m45s\n",
      "2016-09-21_16h07m45s  Counter:  53\n",
      "2017-08-03_15h09m06s\n",
      "2017-08-03_15h09m06s  Counter:  763\n",
      "2017-05-17_19h49m04s\n",
      "2017-05-17_19h49m04s  Counter:  2723\n",
      "2017-05-17_19h50m07s\n",
      "2017-05-17_19h50m07s  Counter:  3483\n",
      "2017-08-11_07h59m58s\n",
      "2017-08-11_07h59m58s  Counter:  724\n",
      "2017-05-29_07h28m52s\n",
      "2017-05-29_07h28m52s  Counter:  1829\n",
      "2017-08-11_08h01m02s\n",
      "2017-08-11_08h01m02s  Counter:  932\n",
      "2017-08-03_15h09m51s\n",
      "2017-08-03_15h09m51s  Counter:  565\n"
     ]
    }
   ],
   "source": [
    "# Loop to group ion images or arrays by formula into by parent id\n",
    "\n",
    "msms_reports = glob.glob('any_results/msms_theo_man_report/*.csv')\n",
    "#msms_reports = glob.glob('any_results/msms_report/*.csv')\n",
    "for report in msms_reports:\n",
    "    new_id = report.split('/')[-1]\n",
    "    new_id = new_id.split('_msms_')[0]\n",
    "    copy_by_parent(new_id, report, False)"
   ]
  },
  {
   "cell_type": "code",
   "execution_count": null,
   "metadata": {},
   "outputs": [],
   "source": []
  }
 ],
 "metadata": {
  "kernelspec": {
   "display_name": "Python 3",
   "language": "python",
   "name": "python3"
  },
  "language_info": {
   "codemirror_mode": {
    "name": "ipython",
    "version": 3
   },
   "file_extension": ".py",
   "mimetype": "text/x-python",
   "name": "python",
   "nbconvert_exporter": "python",
   "pygments_lexer": "ipython3",
   "version": "3.6.8"
  }
 },
 "nbformat": 4,
 "nbformat_minor": 2
}
